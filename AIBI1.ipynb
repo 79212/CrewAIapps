{
 "cells": [
  {
   "cell_type": "code",
   "execution_count": null,
   "id": "a0d53b62-c174-4607-9d33-bf41c10cfb2f",
   "metadata": {},
   "outputs": [],
   "source": [
    "from crewai import Agent, Task, Crew\n",
    "\n",
    "from langchain_community.llms import Ollama \n",
    "\n",
    "llm = \"gpt-4o-mini\"\n"
   ]
  },
  {
   "cell_type": "code",
   "execution_count": null,
   "id": "270744d1-80de-4627-9375-f615f912a755",
   "metadata": {},
   "outputs": [],
   "source": [
    "print(123)"
   ]
  }
 ],
 "metadata": {
  "kernelspec": {
   "display_name": "Python 3 (ipykernel)",
   "language": "python",
   "name": "python3"
  },
  "language_info": {
   "codemirror_mode": {
    "name": "ipython",
    "version": 3
   },
   "file_extension": ".py",
   "mimetype": "text/x-python",
   "name": "python",
   "nbconvert_exporter": "python",
   "pygments_lexer": "ipython3",
   "version": "3.12.7"
  }
 },
 "nbformat": 4,
 "nbformat_minor": 5
}
