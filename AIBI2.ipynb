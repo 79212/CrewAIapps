{
 "cells": [
  {
   "cell_type": "code",
   "execution_count": 1,
   "id": "a0d53b62-c174-4607-9d33-bf41c10cfb2f",
   "metadata": {},
   "outputs": [],
   "source": [
    "from crewai import Agent, Task, Crew\n",
    "\n",
    "llm = \"gpt-4o-mini\""
   ]
  },
  {
   "cell_type": "code",
   "execution_count": 2,
   "id": "270744d1-80de-4627-9375-f615f912a755",
   "metadata": {},
   "outputs": [],
   "source": [
    "from crewai_tools import tool\n",
    "from crewai_tools import FileReadTool, FileWriterTool\n",
    "\n",
    "# Initialize the tool to read any files the agents knows or lean the path for\n",
    "file_read_tool = FileReadTool()\n",
    "file_writer_tool = FileWriterTool()"
   ]
  },
  {
   "cell_type": "code",
   "execution_count": 3,
   "id": "b31c65d8",
   "metadata": {},
   "outputs": [],
   "source": [
    "# Define the agent\n",
    "data_analysis_agent = Agent(\n",
    "        role=\"Data Analyser\",\n",
    "        goal=\"\"\"You aim is to read and analyse sales data\"\"\",\n",
    "        backstory=\"You are assigned to perform sales analysis for a company\",\n",
    "        tools=[file_read_tool, file_writer_tool],\n",
    "        allow_delegation=False,\n",
    "        llm=llm,\n",
    "        allow_code_execution=True\n",
    "    )"
   ]
  },
  {
   "cell_type": "code",
   "execution_count": null,
   "id": "12878311",
   "metadata": {},
   "outputs": [
    {
     "name": "stdout",
     "output_type": "stream",
     "text": [
      "Read the Sales by product category data from the file './sales_product_cat.csv',\n",
      "                draw a chart that summarizes the data and save it to the file './reports/sales_product_summary.png'\n",
      "                and write a summary of the data in markdown that includes a reference to the chart in the file './reports/sales_product_summary.md'\n",
      "Read the Sales by product category data from the file './monthly_sales.csv',\n",
      "                draw a chart that summarizes the data and save it to the file './reports/monthly_sales.png'\n",
      "                and write a summary of the data in markdown that includes a reference to the chart in the file './reports/monthly_sales.md'\n",
      "Read the Sales by product category data from the file './sales_product_cat.csv',\n",
      "                draw a chart that summarizes the data and save it to the file './reports/sales_product_summary.png'\n",
      "                and write a summary of the data in markdown that includes a reference to the chart in the file './reports/sales_product_summary.md'\n"
     ]
    }
   ],
   "source": [
    "def create_charts(query):\n",
    "    create_chart = Task(\n",
    "        description=query,\n",
    "        expected_output=\"\"\"A markdown summary and a matplotlib chart\"\"\",\n",
    "        agent=data_analysis_agent,\n",
    "        tools=[file_read_tool, file_writer_tool]\n",
    "    )\n",
    "    \n",
    "    # Define the crew\n",
    "    crew = Crew(\n",
    "        agents=[data_analysis_agent],\n",
    "        tasks=[create_chart],\n",
    "        verbose=True\n",
    "    )\n",
    "    return crew, create_chart\n",
    "\n",
    "\n",
    "files = [\n",
    "    {\n",
    "        'data_file_name':'./sales_product_cat.csv',\n",
    "        'chart_file_name': './reports/sales_product_summary.png',\n",
    "        'report_file_name': './reports/sales_product_summary.md',\n",
    "    },\n",
    "    {\n",
    "        'data_file_name': './monthly_sales.csv',\n",
    "        'chart_file_name': './reports/monthly_sales.png',\n",
    "        'report_file_name': './reports/monthly_sales.md',\n",
    "    },\n",
    "    {\n",
    "        'data_file_name': './sales_by_region.csv',\n",
    "        'chart_file_name': './reports/sales_by_region.png',\n",
    "        'report_file_name': './reports/sales_by_region.md',\n",
    "    }\n",
    "]\n",
    "\"\"\"\n",
    "data_file_name[0] ='./sales_product_cat.csv'\n",
    "chart_file_name[0] ='./reports/sales_product_summary.png'\n",
    "report_file_name[0] ='./reports/sales_product_summary.md'\n",
    "data_file_name[1] ='./monthly_sales.csv'\n",
    "chart_file_name[1] ='./reports/monthly_sales.png'\n",
    "report_file_name[0] ='./reports/monthly_sales.md'\n",
    "data_file_name[2] ='./sales_by_region.csv'\n",
    "chart_file_name[2] ='./reports/sales_by_region.png'\n",
    "report_file_name[0] ='./reports/sales_by_region.md'\n",
    "\"\"\"\n",
    "\n",
    "for f in files:\n",
    "    query = f\"\"\"Read the Sales by product category data from the file '{f['data_file_name']}',\n",
    "                draw a chart that summarizes the data and save it to the file '{f['chart_file_name']}'\n",
    "                and write a summary of the data in markdown that includes a reference to the chart in the file '{f['report_file_name']}'\"\"\"\n",
    "    print(query)\n",
    "    #crew, task = create_charts(query)\n",
    "    #crew.kickoff()\n",
    "    #task_output = task.output\n"
   ]
  },
  {
   "cell_type": "code",
   "execution_count": 5,
   "id": "8cbf7f57",
   "metadata": {},
   "outputs": [
    {
     "name": "stdout",
     "output_type": "stream",
     "text": [
      "Task Description: Read the Sales by product category data from the file './sales_product_cat.csv'\n",
      "            and draw a chart that summarizes the data and save it to the file './sales_product_summary.png'\n",
      "Task Summary: Read the Sales by product category data from the file...\n",
      "Raw Output: ```python\n",
      "import pandas as pd\n",
      "import matplotlib.pyplot as plt\n",
      "\n",
      "# Load the data\n",
      "file_path = './sales_product_cat.csv'\n",
      "data = pd.read_csv(file_path)\n",
      "\n",
      "# Summarize the data by product category\n",
      "summary = data.groupby('Product Category').agg({'Units Sold': 'sum', 'Revenue ($)': 'sum'}).reset_index()\n",
      "\n",
      "# Create a bar chart for Units Sold and Revenue\n",
      "fig, ax1 = plt.subplots(figsize=(10, 6))\n",
      "\n",
      "# Bar chart for Units Sold\n",
      "ax1.bar(summary['Product Category'], summary['Units Sold'], color='b', alpha=0.7, label='Units Sold')\n",
      "ax1.set_xlabel('Product Category')\n",
      "ax1.set_ylabel('Units Sold', color='b')\n",
      "ax1.tick_params(axis='y', labelcolor='b')\n",
      "\n",
      "# Line chart for Revenue\n",
      "ax2 = ax1.twinx()  # instantiate a second axes that shares the same x-axis\n",
      "ax2.plot(summary['Product Category'], summary['Revenue ($)'], color='r', marker='o', label='Revenue ($)')\n",
      "ax2.set_ylabel('Revenue ($)', color='r')\n",
      "ax2.tick_params(axis='y', labelcolor='r')\n",
      "\n",
      "# Title and legend\n",
      "plt.title('Sales by Product Category')\n",
      "fig.tight_layout()  # to make sure there's enough room for the ylabel\n",
      "\n",
      "# Save the figure\n",
      "plt.savefig('./sales_product_summary.png')\n",
      "plt.show()\n",
      "```\n",
      "\n",
      "This code reads the sales data from the CSV file, summarizes it by product category, and generates a chart that visualizes both units sold (as a bar chart) and revenue (as a line chart), saving the result to a PNG file named 'sales_product_summary.png'.\n"
     ]
    }
   ],
   "source": [
    "\n",
    "\n",
    "print(f\"Task Description: {task_output.description}\")\n",
    "print(f\"Task Summary: {task_output.summary}\")\n",
    "print(f\"Raw Output: {task_output.raw}\")"
   ]
  }
 ],
 "metadata": {
  "kernelspec": {
   "display_name": "Python 3",
   "language": "python",
   "name": "python3"
  },
  "language_info": {
   "codemirror_mode": {
    "name": "ipython",
    "version": 3
   },
   "file_extension": ".py",
   "mimetype": "text/x-python",
   "name": "python",
   "nbconvert_exporter": "python",
   "pygments_lexer": "ipython3",
   "version": "3.12.7"
  }
 },
 "nbformat": 4,
 "nbformat_minor": 5
}
