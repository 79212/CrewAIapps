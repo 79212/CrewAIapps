{
 "cells": [
  {
   "cell_type": "markdown",
   "id": "54ce1232",
   "metadata": {},
   "source": [
    "# AI for BI: Analysing Customer Feedback with AI\n",
    "\n",
    "\n",
    "## Using synthetic data we analyse the customer feedback from the sales of shoes from a fictional online show shop. \n",
    "\n",
    "We initially read the Markdown formatted data, format it as as JSON data and save it in a file for two reasons - first, so we can separate two crews (one for creating the JSON and the other for writing a report) wothout having to clog up the context wondow of the second one with the output of the first, and second we can use the file to create charts in a hybrid application.\n"
   ]
  },
  {
   "cell_type": "code",
   "execution_count": 1,
   "id": "a0d53b62-c174-4607-9d33-bf41c10cfb2f",
   "metadata": {},
   "outputs": [],
   "source": [
    "from crewai import Agent, Task, Crew\n",
    "llm = \"gpt-4o-mini\""
   ]
  },
  {
   "cell_type": "markdown",
   "id": "25d41062",
   "metadata": {},
   "source": [
    "Import the tools required to read and write files"
   ]
  },
  {
   "cell_type": "code",
   "execution_count": 2,
   "id": "270744d1-80de-4627-9375-f615f912a755",
   "metadata": {},
   "outputs": [],
   "source": [
    "from crewai_tools import tool\n",
    "from crewai_tools import FileReadTool, FileWriterTool\n",
    "\n",
    "# Initialize the tool to read any files the agents knows or lean the path for\n",
    "file_read_tool = FileReadTool()\n",
    "file_writer_tool = FileWriterTool()"
   ]
  },
  {
   "cell_type": "code",
   "execution_count": 3,
   "id": "b31c65d8",
   "metadata": {},
   "outputs": [],
   "source": [
    "# Define agent\n",
    "\n",
    "fb_analyser_agent = Agent(\n",
    "        role=\"Feedback analyser\",\n",
    "        goal=\"\"\"Read the file provided it is in Markdown format. \n",
    "                It contains data about the range of items in an online shoe shop.\n",
    "                Following this is a set of messages from customers giving feedback about the shoes that they have purchased.\n",
    "                You goal is to:\n",
    "                1. Calculate the sentiment for every customer message\n",
    "                2. Create a structured file in JSON format that records a list of all customer feedback messages. \n",
    "                   Each item in the list should be structured as follows (the items in curly brackets should be calculated or extracted from the data):\n",
    "                    {\"Shoe\": \"{Name of item}\", \n",
    "                     \"Overall Rating\": \"{rating as given by customer}\", \n",
    "                     \"Issue\": \"{any issues identified - 'None' if none identified}\", \n",
    "                     \"Review\": \"{customer message}\", \n",
    "                     \"Sentiment\": \"{calculated sentiment of customer message}\"}        \n",
    "                3. Save the file using the name provided.\n",
    "           \"\"\",\n",
    "        backstory=\"You aim is to read and analyse customer feedback for items sold online\",\n",
    "        tools=[file_read_tool, file_writer_tool],\n",
    "        llm=llm,\n",
    "        allow_code_execution=False\n",
    "    )\n",
    "\n",
    "quality_analyser_agent = Agent(\n",
    "        role=\"Quality analyser\",\n",
    "        goal=\"\"\"Using the JSON structured customer feedback, write a report that consolidates \n",
    "                and summarizes the customer feedback.                 \n",
    "                The report should be in Markdown format.\n",
    "                Save the report in the file './report.md'. \n",
    "                \n",
    "                The report should be structured in the\n",
    "                following way (text in curly brackets should be calculated or otherwise derived from the data; \n",
    "                text in square backets are instructions that you should follow):\n",
    "\n",
    "                     # Product review report\n",
    "\n",
    "                     ### Summary\n",
    "\n",
    "                     [create a table with an entry for each product in the follow format]\n",
    "                     \n",
    "                     | Product | Average Rating | Number of reviews | Positve | Neutral | Negative |\n",
    "                     | {product name} | {the average of all the rating for this product} | {total number of reviews} | {number of positive reviews} | {number of neutral reviews} | {number of negative reviews} |\n",
    "\n",
    "                     ### Insights\n",
    "\n",
    "                     #### Best performers\n",
    "\n",
    "                     {report on the products with the best reviews}\n",
    "\n",
    "                     #### Underperformers\n",
    "\n",
    "                     {report on the products that are underperforming}\n",
    "\n",
    "                     #### Issues\n",
    "\n",
    "                     {what steps need to be taken to improve sales}\n",
    "                   \n",
    "\n",
    "           \"\"\",\n",
    "        backstory=\"You aim is to read and analyse customer feedback for items sold online\",\n",
    "        tools=[file_read_tool, file_writer_tool],\n",
    "        llm=llm,\n",
    "        allow_code_execution=False\n",
    "    )\n",
    "\n"
   ]
  },
  {
   "cell_type": "code",
   "execution_count": 6,
   "id": "c5ba6952",
   "metadata": {},
   "outputs": [
    {
     "name": "stderr",
     "output_type": "stream",
     "text": [
      "2024-11-26 19:09:33,712 - 17320 - __init__.py-__init__:538 - WARNING: Overriding of current TracerProvider is not allowed\n"
     ]
    }
   ],
   "source": [
    "create_JSON = Task(\n",
    "    description=\"\"\"Analyse \"shoes range and reviews.md\" and save it in \"./fb.json\".'\n",
    "                    \"\"\",\n",
    "    expected_output=\"\"\"A JSON file\"\"\",\n",
    "    agent=fb_analyser_agent,\n",
    "    tools=[file_read_tool, file_writer_tool]\n",
    ")\n",
    "\n",
    "create_report = Task(\n",
    "    description=\"\"\"Using the data in the file './fb.json', create a summary report forand save it in \"./report.md\".'\n",
    "                    \"\"\",\n",
    "    expected_output=\"\"\"A Markdown file\"\"\",\n",
    "    agent=quality_analyser_agent,\n",
    "    tools=[file_read_tool, file_writer_tool]\n",
    ")\n",
    "\n",
    "# Define the crew\n",
    "crew = Crew(\n",
    "    agents=[fb_analyser_agent],\n",
    "    tasks=[create_JSON],\n",
    "    verbose=True\n",
    ")\n",
    "#crew.kickoff()\n",
    "\n"
   ]
  },
  {
   "cell_type": "code",
   "execution_count": 8,
   "id": "f267ca0f",
   "metadata": {},
   "outputs": [
    {
     "name": "stderr",
     "output_type": "stream",
     "text": [
      "2024-11-26 19:09:58,030 - 17320 - __init__.py-__init__:538 - WARNING: Overriding of current TracerProvider is not allowed\n"
     ]
    },
    {
     "name": "stdout",
     "output_type": "stream",
     "text": [
      "\u001b[1m\u001b[95m# Agent:\u001b[00m \u001b[1m\u001b[92mQuality analyser\u001b[00m\n",
      "\u001b[95m## Task:\u001b[00m \u001b[92mUsing the data in the file './fb.json', create a summary report forand save it in \"./report.md\".'\n",
      "                    \u001b[00m\n",
      "\n",
      "\n",
      "\u001b[1m\u001b[95m# Agent:\u001b[00m \u001b[1m\u001b[92mQuality analyser\u001b[00m\n",
      "\u001b[95m## Thought:\u001b[00m \u001b[92mI need to read the content of the JSON file to analyze customer feedback for products sold online.\u001b[00m\n",
      "\u001b[95m## Using tool:\u001b[00m \u001b[92mRead a file's content\u001b[00m\n",
      "\u001b[95m## Tool Input:\u001b[00m \u001b[92m\n",
      "\"{\\\"file_path\\\": \\\"./fb.json\\\"}\"\u001b[00m\n",
      "\u001b[95m## Tool Output:\u001b[00m \u001b[92m\n",
      "[{\"Shoe\": \"CloudStrider Sneakers\", \"Overall Rating\": \"2/5\", \"Issue\": \"Durability\", \"Review\": \"The shoes were super comfortable initially, but after just two months, the sole started to peel off! Really disappointed with the durability.\", \"Sentiment\": \"Negative\"},{\"Shoe\": \"CloudStrider Sneakers\", \"Overall Rating\": \"1/5\", \"Issue\": \"Sizing\", \"Review\": \"I ordered my usual size, but these sneakers were way too tight. Had to return them. The sizing is totally off.\", \"Sentiment\": \"Negative\"},{\"Shoe\": \"CloudStrider Sneakers\", \"Overall Rating\": \"3/5\", \"Issue\": \"Odor\", \"Review\": \"Great for short runs, but they hold onto odors even after washing. Not ideal for heavy use.\", \"Sentiment\": \"Neutral\"},{\"Shoe\": \"CloudStrider Sneakers\", \"Overall Rating\": \"5/5\", \"Issue\": \"None\", \"Review\": \"Extremely lightweight and breathable. Perfect for casual jogging. No issues so far!\", \"Sentiment\": \"Positive\"},{\"Shoe\": \"PeakTrek Hikers\", \"Overall Rating\": \"1/5\", \"Issue\": \"Waterproof\", \"Review\": \"These boots claim to be waterproof, but my feet were soaked after just walking through damp grass. Not worth it.\", \"Sentiment\": \"Negative\"},{\"Shoe\": \"PeakTrek Hikers\", \"Overall Rating\": \"2/5\", \"Issue\": \"Grip\", \"Review\": \"I slipped multiple times on rocky trails because the soles don’t grip well on wet surfaces. Not safe for serious hikes.\", \"Sentiment\": \"Negative\"},{\"Shoe\": \"PeakTrek Hikers\", \"Overall Rating\": \"4/5\", \"Issue\": \"Padding\", \"Review\": \"The boots are sturdy and provide decent ankle support, but I wish the padding was thicker for longer treks.\", \"Sentiment\": \"Neutral\"},{\"Shoe\": \"PeakTrek Hikers\", \"Overall Rating\": \"5/5\", \"Issue\": \"None\", \"Review\": \"Used these for a weekend hike in the mountains, and they held up really well. No blisters, and they felt solid.\", \"Sentiment\": \"Positive\"},{\"Shoe\": \"SwiftShine Heels\", \"Overall Rating\": \"2/5\", \"Issue\": \"Durability\", \"Review\": \"I wore these to a wedding, and the heel broke during the reception. Embarrassing and frustrating!\", \"Sentiment\": \"Negative\"},{\"Shoe\": \"SwiftShine Heels\", \"Overall Rating\": \"3/5\", \"Issue\": \"Scratching\", \"Review\": \"While they look stunning, the glossy finish scratches so easily. They were scuffed after just one night out.\", \"Sentiment\": \"Neutral\"},{\"Shoe\": \"SwiftShine Heels\", \"Overall Rating\": \"1/5\", \"Issue\": \"Comfort\", \"Review\": \"The worst! My feet were in so much pain after an hour. Definitely not designed for comfort.\", \"Sentiment\": \"Negative\"},{\"Shoe\": \"SwiftShine Heels\", \"Overall Rating\": \"4/5\", \"Issue\": \"None\", \"Review\": \"Beautiful shoes, and I received so many compliments. Just don’t wear them if you’ll be on your feet all day.\", \"Sentiment\": \"Positive\"},{\"Shoe\": \"LuxeLace Oxfords\", \"Overall Rating\": \"5/5\", \"Issue\": \"None\", \"Review\": \"These oxfords are absolutely perfect for office wear. The leather feels premium, and they’ve held up beautifully after months of use.\", \"Sentiment\": \"Positive\"},{\"Shoe\": \"LuxeLace Oxfords\", \"Overall Rating\": \"4/5\", \"Issue\": \"Color Options\", \"Review\": \"Stylish and comfortable, but I wish they came in more color options. A great buy overall!\", \"Sentiment\": \"Neutral\"},{\"Shoe\": \"LuxeLace Oxfords\", \"Overall Rating\": \"5/5\", \"Issue\": \"None\", \"Review\": \"Finally found dress shoes that don’t kill my feet after a full day at work. Great craftsmanship!\", \"Sentiment\": \"Positive\"},{\"Shoe\": \"LuxeLace Oxfords\", \"Overall Rating\": \"4/5\", \"Issue\": \"Stiffness\", \"Review\": \"They’re a bit stiff out of the box, but after breaking them in, they’re incredibly comfortable and classy.\", \"Sentiment\": \"Neutral\"},{\"Shoe\": \"EcoStep Slip-Ons\", \"Overall Rating\": \"5/5\", \"Issue\": \"None\", \"Review\": \"Love these slip-ons! They’re so easy to wear, and the fact that they’re made from recycled materials is a huge plus.\", \"Sentiment\": \"Positive\"},{\"Shoe\": \"EcoStep Slip-Ons\", \"Overall Rating\": \"4/5\", \"Issue\": \"Weather\", \"Review\": \"Super comfy and stylish for casual outings. Only minor downside is that they aren’t ideal for rainy weather.\", \"Sentiment\": \"Neutral\"},{\"Shoe\": \"EcoStep Slip-Ons\", \"Overall Rating\": \"5/5\", \"Issue\": \"None\", \"Review\": \"These have quickly become my go-to everyday shoes. Lightweight, breathable, and eco-friendly!\", \"Sentiment\": \"Positive\"},{\"Shoe\": \"EcoStep Slip-Ons\", \"Overall Rating\": \"4/5\", \"Issue\": \"Arch Support\", \"Review\": \"The fit is great, and I appreciate the sustainable design. They could use a bit more arch support, but otherwise fantastic.\", \"Sentiment\": \"Neutral\"},{\"Shoe\": \"BounceMax Runners\", \"Overall Rating\": \"5/5\", \"Issue\": \"None\", \"Review\": \"These runners are a dream for long-distance running. The cushioning is excellent, and my feet feel great even after 10 miles!\", \"Sentiment\": \"Positive\"},{\"Shoe\": \"BounceMax Runners\", \"Overall Rating\": \"5/5\", \"Issue\": \"None\", \"Review\": \"Absolutely love these! They provide just the right amount of support and bounce for my workouts.\", \"Sentiment\": \"Positive\"},{\"Shoe\": \"BounceMax Runners\", \"Overall Rating\": \"4/5\", \"Issue\": \"Bulkiness\", \"Review\": \"Great performance shoes. Only minor complaint is that they’re slightly bulkier than expected, but it’s a small tradeoff for the comfort.\", \"Sentiment\": \"Neutral\"},{\"Shoe\": \"BounceMax Runners\", \"Overall Rating\": \"5/5\", \"Issue\": \"None\", \"Review\": \"I’ve tried many running shoes, and these are by far the best. Durable, comfortable, and stylish too.\", \"Sentiment\": \"Positive\"}]\u001b[00m\n",
      "\n",
      "\n",
      "\u001b[1m\u001b[95m# Agent:\u001b[00m \u001b[1m\u001b[92mQuality analyser\u001b[00m\n",
      "\u001b[95m## Thought:\u001b[00m \u001b[92mThought: Now that I have the customer feedback data, I need to process it to calculate the average ratings, number of reviews, and categorize the sentiments for each product before writing the report.\n",
      "# Data Processing\n",
      "1. **Calculate Average Ratings** - Convert the ratings from string to numeric and find the average per product.\n",
      "2. **Count Reviews** - Total the number of reviews for each product.\n",
      "3. **Categorize Sentiments** - Count positive, neutral, and negative sentiments for each product.\n",
      "Let's process this data step by step to derive required statistics for each product. \n",
      "### Product Review Calculations\n",
      "#### CloudStrider Sneakers\n",
      "- Ratings: [2, 1, 3, 5] \n",
      "- Average Rating: (2 + 1 + 3 + 5) / 4 = 2.75\n",
      "- Number of reviews: 4\n",
      "- Positive: 1, Neutral: 1, Negative: 2\n",
      "#### PeakTrek Hikers\n",
      "- Ratings: [1, 2, 4, 5] \n",
      "- Average Rating: (1 + 2 + 4 + 5) / 4 = 3.00\n",
      "- Number of reviews: 4\n",
      "- Positive: 2, Neutral: 1, Negative: 1\n",
      "#### SwiftShine Heels\n",
      "- Ratings: [2, 3, 1, 4] \n",
      "- Average Rating: (2 + 3 + 1 + 4) / 4 = 2.50\n",
      "- Number of reviews: 4\n",
      "- Positive: 1, Neutral: 1, Negative: 2\n",
      "#### LuxeLace Oxfords\n",
      "- Ratings: [5, 4, 5, 4] \n",
      "- Average Rating: (5 + 4 + 5 + 4) / 4 = 4.50\n",
      "- Number of reviews: 4\n",
      "- Positive: 3, Neutral: 1, Negative: 0\n",
      "#### EcoStep Slip-Ons\n",
      "- Ratings: [5, 4, 5, 4] \n",
      "- Average Rating: (5 + 4 + 5 + 4) / 4 = 4.50\n",
      "- Number of reviews: 4\n",
      "- Positive: 3, Neutral: 1, Negative: 0\n",
      "#### BounceMax Runners\n",
      "- Ratings: [5, 5, 4, 5] \n",
      "- Average Rating: (5 + 5 + 4 + 5) / 4 = 4.75\n",
      "- Number of reviews: 4\n",
      "- Positive: 4, Neutral: 0, Negative: 0\n",
      "### Final Report Data Preparation\n",
      "Here are the results summarized:\n",
      "| Product                 | Average Rating | Number of reviews | Positive | Neutral | Negative |\n",
      "|-------------------------|----------------|-------------------|----------|---------|----------|\n",
      "| CloudStrider Sneakers    | 2.75           | 4                 | 1        | 1       | 2        |\n",
      "| PeakTrek Hikers         | 3.00           | 4                 | 2        | 1       | 1        |\n",
      "| SwiftShine Heels        | 2.50           | 4                 | 1        | 1       | 2        |\n",
      "| LuxeLace Oxfords        | 4.50           | 4                 | 3        | 1       | 0        |\n",
      "| EcoStep Slip-Ons        | 4.50           | 4                 | 3        | 1       | 0        |\n",
      "| BounceMax Runners       | 4.75           | 4                 | 4        | 0       | 0        |\n",
      "### Report Insights\n",
      "#### Best performers\n",
      "- **BounceMax Runners**: With an exceptional average rating of 4.75, these shoes received positive feedback across all reviews. Customers appreciated the cushioning and support during long-distance runs.\n",
      "- **LuxeLace Oxfords & EcoStep Slip-Ons**: Both have an average rating of 4.50 with a strong number of positive reviews, indicating satisfaction particularly in comfort and style.\n",
      "#### Underperformers\n",
      "- **SwiftShine Heels**: This product has the lowest average rating at 2.50, primarily due to negative sentiment focused on comfort and durability.\n",
      "- **CloudStrider Sneakers**: Must improve on durability which seems to be a recurring issue in the feedback received.\n",
      "#### Issues\n",
      "- **Action Steps**:\n",
      "  - **SwiftShine Heels**: Needs a redesign focused on improving comfort to avoid customer dissatisfaction.\n",
      "  - **CloudStrider Sneakers**: Address durability issues by using better quality materials.\n",
      "  - **PeakTrek Hikers**: Improve waterproofing and grip features, as these were highlighted as concerns in reviews.\n",
      "Now, I will compile the above information into a Markdown file to complete the task.\u001b[00m\n",
      "\u001b[95m## Using tool:\u001b[00m \u001b[92mFile Writer Tool\u001b[00m\n",
      "\u001b[95m## Tool Input:\u001b[00m \u001b[92m\n",
      "\"{\\\"filename\\\": \\\"report.md\\\", \\\"directory\\\": \\\".\\\", \\\"overwrite\\\": \\\"yes\\\", \\\"content\\\": \\\"# Product review report\\\\n\\\\n### Summary\\\\n\\\\n| Product                 | Average Rating | Number of reviews | Positive | Neutral | Negative |\\\\n|-------------------------|----------------|-------------------|----------|---------|----------|\\\\n| CloudStrider Sneakers    | 2.75           | 4                 | 1        | 1       | 2        |\\\\n| PeakTrek Hikers         | 3.00           | 4                 | 2        | 1       | 1        |\\\\n| SwiftShine Heels        | 2.50           | 4                 | 1        | 1       | 2        |\\\\n| LuxeLace Oxfords        | 4.50           | 4                 | 3        | 1       | 0        |\\\\n| EcoStep Slip-Ons        | 4.50           | 4                 | 3        | 1       | 0        |\\\\n| BounceMax Runners       | 4.75           | 4                 | 4        | 0       | 0        |\\\\n\\\\n### Insights\\\\n\\\\n#### Best performers\\\\n- **BounceMax Runners**: With an exceptional average rating of 4.75, these shoes received positive feedback across all reviews. Customers appreciated the cushioning and support during long-distance runs.\\\\n- **LuxeLace Oxfords & EcoStep Slip-Ons**: Both have an average rating of 4.50 with a strong number of positive reviews, indicating satisfaction particularly in comfort and style.\\\\n\\\\n#### Underperformers\\\\n- **SwiftShine Heels**: This product has the lowest average rating at 2.50, primarily due to negative sentiment focused on comfort and durability.\\\\n- **CloudStrider Sneakers**: Must improve on durability which seems to be a recurring issue in the feedback received.\\\\n\\\\n#### Issues\\\\n- **Action Steps**:\\\\n  - **SwiftShine Heels**: Needs a redesign focused on improving comfort to avoid customer dissatisfaction.\\\\n  - **CloudStrider Sneakers**: Address durability issues by using better quality materials.\\\\n  - **PeakTrek Hikers**: Improve waterproofing and grip features, as these were highlighted as concerns in reviews.\\\\n\\\"}\"\u001b[00m\n",
      "\u001b[95m## Tool Output:\u001b[00m \u001b[92m\n",
      "Content successfully written to .\\report.md\n",
      "\n",
      "\n",
      "You ONLY have access to the following tools, and should NEVER make up tools that are not listed here:\n",
      "\n",
      "Tool Name: Read a file's content\n",
      "Tool Arguments: {'file_path': {'description': 'Mandatory file full path to read the file', 'type': 'str'}}\n",
      "Tool Description: A tool that can be used to read a file's content.\n",
      "Tool Name: File Writer Tool\n",
      "Tool Arguments: {'filename': {'description': None, 'type': 'str'}, 'directory': {'description': None, 'type': 'Union[str, NoneType]'}, 'overwrite': {'description': None, 'type': 'str'}, 'content': {'description': None, 'type': 'str'}}\n",
      "Tool Description: A tool to write content to a specified file. Accepts filename, content, and optionally a directory path and overwrite flag as input.\n",
      "\n",
      "Use the following format:\n",
      "\n",
      "Thought: you should always think about what to do\n",
      "Action: the action to take, only one name of [Read a file's content, File Writer Tool], just the name, exactly as it's written.\n",
      "Action Input: the input to the action, just a simple python dictionary, enclosed in curly braces, using \" to wrap keys and values.\n",
      "Observation: the result of the action\n",
      "\n",
      "Once all necessary information is gathered:\n",
      "\n",
      "Thought: I now know the final answer\n",
      "Final Answer: the final answer to the original input question\n",
      "\u001b[00m\n",
      "\n",
      "\n",
      "\u001b[1m\u001b[95m# Agent:\u001b[00m \u001b[1m\u001b[92mQuality analyser\u001b[00m\n",
      "\u001b[95m## Thought:\u001b[00m \u001b[92mThought: I need to confirm that the report has been successfully created and contains the intended content.\u001b[00m\n",
      "\u001b[95m## Using tool:\u001b[00m \u001b[92mRead a file's content\u001b[00m\n",
      "\u001b[95m## Tool Input:\u001b[00m \u001b[92m\n",
      "\"{\\\"file_path\\\": \\\"./report.md\\\"}\"\u001b[00m\n",
      "\u001b[95m## Tool Output:\u001b[00m \u001b[92m\n",
      "# Product review report\n",
      "\n",
      "### Summary\n",
      "\n",
      "| Product                 | Average Rating | Number of reviews | Positive | Neutral | Negative |\n",
      "|-------------------------|----------------|-------------------|----------|---------|----------|\n",
      "| CloudStrider Sneakers    | 2.75           | 4                 | 1        | 1       | 2        |\n",
      "| PeakTrek Hikers         | 3.00           | 4                 | 2        | 1       | 1        |\n",
      "| SwiftShine Heels        | 2.50           | 4                 | 1        | 1       | 2        |\n",
      "| LuxeLace Oxfords        | 4.50           | 4                 | 3        | 1       | 0        |\n",
      "| EcoStep Slip-Ons        | 4.50           | 4                 | 3        | 1       | 0        |\n",
      "| BounceMax Runners       | 4.75           | 4                 | 4        | 0       | 0        |\n",
      "\n",
      "### Insights\n",
      "\n",
      "#### Best performers\n",
      "- **BounceMax Runners**: With an exceptional average rating of 4.75, these shoes received positive feedback across all reviews. Customers appreciated the cushioning and support during long-distance runs.\n",
      "- **LuxeLace Oxfords & EcoStep Slip-Ons**: Both have an average rating of 4.50 with a strong number of positive reviews, indicating satisfaction particularly in comfort and style.\n",
      "\n",
      "#### Underperformers\n",
      "- **SwiftShine Heels**: This product has the lowest average rating at 2.50, primarily due to negative sentiment focused on comfort and durability.\n",
      "- **CloudStrider Sneakers**: Must improve on durability which seems to be a recurring issue in the feedback received.\n",
      "\n",
      "#### Issues\n",
      "- **Action Steps**:\n",
      "  - **SwiftShine Heels**: Needs a redesign focused on improving comfort to avoid customer dissatisfaction.\n",
      "  - **CloudStrider Sneakers**: Address durability issues by using better quality materials.\n",
      "  - **PeakTrek Hikers**: Improve waterproofing and grip features, as these were highlighted as concerns in reviews.\n",
      "\u001b[00m\n",
      "\n",
      "\n",
      "\u001b[1m\u001b[95m# Agent:\u001b[00m \u001b[1m\u001b[92mQuality analyser\u001b[00m\n",
      "\u001b[95m## Final Answer:\u001b[00m \u001b[92m\n",
      "```\n",
      "# Product review report\n",
      "\n",
      "### Summary\n",
      "\n",
      "| Product                 | Average Rating | Number of reviews | Positive | Neutral | Negative |\n",
      "|-------------------------|----------------|-------------------|----------|---------|----------|\n",
      "| CloudStrider Sneakers    | 2.75           | 4                 | 1        | 1       | 2        |\n",
      "| PeakTrek Hikers         | 3.00           | 4                 | 2        | 1       | 1        |\n",
      "| SwiftShine Heels        | 2.50           | 4                 | 1        | 1       | 2        |\n",
      "| LuxeLace Oxfords        | 4.50           | 4                 | 3        | 1       | 0        |\n",
      "| EcoStep Slip-Ons        | 4.50           | 4                 | 3        | 1       | 0        |\n",
      "| BounceMax Runners       | 4.75           | 4                 | 4        | 0       | 0        |\n",
      "\n",
      "### Insights\n",
      "\n",
      "#### Best performers\n",
      "- **BounceMax Runners**: With an exceptional average rating of 4.75, these shoes received positive feedback across all reviews. Customers appreciated the cushioning and support during long-distance runs.\n",
      "- **LuxeLace Oxfords & EcoStep Slip-Ons**: Both have an average rating of 4.50 with a strong number of positive reviews, indicating satisfaction particularly in comfort and style.\n",
      "\n",
      "#### Underperformers\n",
      "- **SwiftShine Heels**: This product has the lowest average rating at 2.50, primarily due to negative sentiment focused on comfort and durability.\n",
      "- **CloudStrider Sneakers**: Must improve on durability which seems to be a recurring issue in the feedback received.\n",
      "\n",
      "#### Issues\n",
      "- **Action Steps**:\n",
      "  - **SwiftShine Heels**: Needs a redesign focused on improving comfort to avoid customer dissatisfaction.\n",
      "  - **CloudStrider Sneakers**: Address durability issues by using better quality materials.\n",
      "  - **PeakTrek Hikers**: Improve waterproofing and grip features, as these were highlighted as concerns in reviews.\n",
      "```\n",
      "\n",
      "The summary report has been successfully created and saved in \"./report.md\".\u001b[00m\n",
      "\n",
      "\n"
     ]
    },
    {
     "data": {
      "text/plain": [
       "CrewOutput(raw='```\\n# Product review report\\n\\n### Summary\\n\\n| Product                 | Average Rating | Number of reviews | Positive | Neutral | Negative |\\n|-------------------------|----------------|-------------------|----------|---------|----------|\\n| CloudStrider Sneakers    | 2.75           | 4                 | 1        | 1       | 2        |\\n| PeakTrek Hikers         | 3.00           | 4                 | 2        | 1       | 1        |\\n| SwiftShine Heels        | 2.50           | 4                 | 1        | 1       | 2        |\\n| LuxeLace Oxfords        | 4.50           | 4                 | 3        | 1       | 0        |\\n| EcoStep Slip-Ons        | 4.50           | 4                 | 3        | 1       | 0        |\\n| BounceMax Runners       | 4.75           | 4                 | 4        | 0       | 0        |\\n\\n### Insights\\n\\n#### Best performers\\n- **BounceMax Runners**: With an exceptional average rating of 4.75, these shoes received positive feedback across all reviews. Customers appreciated the cushioning and support during long-distance runs.\\n- **LuxeLace Oxfords & EcoStep Slip-Ons**: Both have an average rating of 4.50 with a strong number of positive reviews, indicating satisfaction particularly in comfort and style.\\n\\n#### Underperformers\\n- **SwiftShine Heels**: This product has the lowest average rating at 2.50, primarily due to negative sentiment focused on comfort and durability.\\n- **CloudStrider Sneakers**: Must improve on durability which seems to be a recurring issue in the feedback received.\\n\\n#### Issues\\n- **Action Steps**:\\n  - **SwiftShine Heels**: Needs a redesign focused on improving comfort to avoid customer dissatisfaction.\\n  - **CloudStrider Sneakers**: Address durability issues by using better quality materials.\\n  - **PeakTrek Hikers**: Improve waterproofing and grip features, as these were highlighted as concerns in reviews.\\n```\\n\\nThe summary report has been successfully created and saved in \"./report.md\".', pydantic=None, json_dict=None, tasks_output=[TaskOutput(description='Using the data in the file \\'./fb.json\\', create a summary report forand save it in \"./report.md\".\\'\\n                    ', name=None, expected_output='A Markdown file', summary=\"Using the data in the file './fb.json', create a summary...\", raw='```\\n# Product review report\\n\\n### Summary\\n\\n| Product                 | Average Rating | Number of reviews | Positive | Neutral | Negative |\\n|-------------------------|----------------|-------------------|----------|---------|----------|\\n| CloudStrider Sneakers    | 2.75           | 4                 | 1        | 1       | 2        |\\n| PeakTrek Hikers         | 3.00           | 4                 | 2        | 1       | 1        |\\n| SwiftShine Heels        | 2.50           | 4                 | 1        | 1       | 2        |\\n| LuxeLace Oxfords        | 4.50           | 4                 | 3        | 1       | 0        |\\n| EcoStep Slip-Ons        | 4.50           | 4                 | 3        | 1       | 0        |\\n| BounceMax Runners       | 4.75           | 4                 | 4        | 0       | 0        |\\n\\n### Insights\\n\\n#### Best performers\\n- **BounceMax Runners**: With an exceptional average rating of 4.75, these shoes received positive feedback across all reviews. Customers appreciated the cushioning and support during long-distance runs.\\n- **LuxeLace Oxfords & EcoStep Slip-Ons**: Both have an average rating of 4.50 with a strong number of positive reviews, indicating satisfaction particularly in comfort and style.\\n\\n#### Underperformers\\n- **SwiftShine Heels**: This product has the lowest average rating at 2.50, primarily due to negative sentiment focused on comfort and durability.\\n- **CloudStrider Sneakers**: Must improve on durability which seems to be a recurring issue in the feedback received.\\n\\n#### Issues\\n- **Action Steps**:\\n  - **SwiftShine Heels**: Needs a redesign focused on improving comfort to avoid customer dissatisfaction.\\n  - **CloudStrider Sneakers**: Address durability issues by using better quality materials.\\n  - **PeakTrek Hikers**: Improve waterproofing and grip features, as these were highlighted as concerns in reviews.\\n```\\n\\nThe summary report has been successfully created and saved in \"./report.md\".', pydantic=None, json_dict=None, agent='Quality analyser', output_format=<OutputFormat.RAW: 'raw'>)], token_usage=UsageMetrics(total_tokens=31852, prompt_tokens=27132, completion_tokens=4720, successful_requests=11))"
      ]
     },
     "execution_count": 8,
     "metadata": {},
     "output_type": "execute_result"
    }
   ],
   "source": [
    "crew = Crew(\n",
    "    agents=[quality_analyser_agent],\n",
    "    tasks=[create_report],\n",
    "    verbose=True\n",
    ")\n",
    "crew.kickoff()"
   ]
  },
  {
   "cell_type": "markdown",
   "id": "16102e0b",
   "metadata": {},
   "source": [
    "make two apps one to generate the files and a streamlit one to report with charts\n",
    "\n",
    "Make a hybrid app by including conventional coding - create a Strreamlit app from the code above, show the report in one pane and the following charts in another."
   ]
  },
  {
   "cell_type": "code",
   "execution_count": 9,
   "id": "0a882e2d",
   "metadata": {},
   "outputs": [
    {
     "data": {
      "text/html": [
       "<div>\n",
       "<style scoped>\n",
       "    .dataframe tbody tr th:only-of-type {\n",
       "        vertical-align: middle;\n",
       "    }\n",
       "\n",
       "    .dataframe tbody tr th {\n",
       "        vertical-align: top;\n",
       "    }\n",
       "\n",
       "    .dataframe thead th {\n",
       "        text-align: right;\n",
       "    }\n",
       "</style>\n",
       "<table border=\"1\" class=\"dataframe\">\n",
       "  <thead>\n",
       "    <tr style=\"text-align: right;\">\n",
       "      <th></th>\n",
       "      <th>Shoe</th>\n",
       "      <th>Overall Rating</th>\n",
       "      <th>Issue</th>\n",
       "      <th>Review</th>\n",
       "      <th>Sentiment</th>\n",
       "    </tr>\n",
       "  </thead>\n",
       "  <tbody>\n",
       "    <tr>\n",
       "      <th>0</th>\n",
       "      <td>CloudStrider Sneakers</td>\n",
       "      <td>2/5</td>\n",
       "      <td>Durability</td>\n",
       "      <td>The shoes were super comfortable initially, bu...</td>\n",
       "      <td>Negative</td>\n",
       "    </tr>\n",
       "    <tr>\n",
       "      <th>1</th>\n",
       "      <td>CloudStrider Sneakers</td>\n",
       "      <td>1/5</td>\n",
       "      <td>Sizing</td>\n",
       "      <td>I ordered my usual size, but these sneakers we...</td>\n",
       "      <td>Negative</td>\n",
       "    </tr>\n",
       "    <tr>\n",
       "      <th>2</th>\n",
       "      <td>CloudStrider Sneakers</td>\n",
       "      <td>3/5</td>\n",
       "      <td>Odor</td>\n",
       "      <td>Great for short runs, but they hold onto odors...</td>\n",
       "      <td>Neutral</td>\n",
       "    </tr>\n",
       "    <tr>\n",
       "      <th>3</th>\n",
       "      <td>CloudStrider Sneakers</td>\n",
       "      <td>5/5</td>\n",
       "      <td>None</td>\n",
       "      <td>Extremely lightweight and breathable. Perfect ...</td>\n",
       "      <td>Positive</td>\n",
       "    </tr>\n",
       "    <tr>\n",
       "      <th>4</th>\n",
       "      <td>PeakTrek Hikers</td>\n",
       "      <td>1/5</td>\n",
       "      <td>Waterproof</td>\n",
       "      <td>These boots claim to be waterproof, but my fee...</td>\n",
       "      <td>Negative</td>\n",
       "    </tr>\n",
       "    <tr>\n",
       "      <th>5</th>\n",
       "      <td>PeakTrek Hikers</td>\n",
       "      <td>2/5</td>\n",
       "      <td>Grip</td>\n",
       "      <td>I slipped multiple times on rocky trails becau...</td>\n",
       "      <td>Negative</td>\n",
       "    </tr>\n",
       "    <tr>\n",
       "      <th>6</th>\n",
       "      <td>PeakTrek Hikers</td>\n",
       "      <td>4/5</td>\n",
       "      <td>Padding</td>\n",
       "      <td>The boots are sturdy and provide decent ankle ...</td>\n",
       "      <td>Neutral</td>\n",
       "    </tr>\n",
       "    <tr>\n",
       "      <th>7</th>\n",
       "      <td>PeakTrek Hikers</td>\n",
       "      <td>5/5</td>\n",
       "      <td>None</td>\n",
       "      <td>Used these for a weekend hike in the mountains...</td>\n",
       "      <td>Positive</td>\n",
       "    </tr>\n",
       "    <tr>\n",
       "      <th>8</th>\n",
       "      <td>SwiftShine Heels</td>\n",
       "      <td>2/5</td>\n",
       "      <td>Durability</td>\n",
       "      <td>I wore these to a wedding, and the heel broke ...</td>\n",
       "      <td>Negative</td>\n",
       "    </tr>\n",
       "    <tr>\n",
       "      <th>9</th>\n",
       "      <td>SwiftShine Heels</td>\n",
       "      <td>3/5</td>\n",
       "      <td>Scratching</td>\n",
       "      <td>While they look stunning, the glossy finish sc...</td>\n",
       "      <td>Neutral</td>\n",
       "    </tr>\n",
       "    <tr>\n",
       "      <th>10</th>\n",
       "      <td>SwiftShine Heels</td>\n",
       "      <td>1/5</td>\n",
       "      <td>Comfort</td>\n",
       "      <td>The worst! My feet were in so much pain after ...</td>\n",
       "      <td>Negative</td>\n",
       "    </tr>\n",
       "    <tr>\n",
       "      <th>11</th>\n",
       "      <td>SwiftShine Heels</td>\n",
       "      <td>4/5</td>\n",
       "      <td>None</td>\n",
       "      <td>Beautiful shoes, and I received so many compli...</td>\n",
       "      <td>Positive</td>\n",
       "    </tr>\n",
       "    <tr>\n",
       "      <th>12</th>\n",
       "      <td>LuxeLace Oxfords</td>\n",
       "      <td>5/5</td>\n",
       "      <td>None</td>\n",
       "      <td>These oxfords are absolutely perfect for offic...</td>\n",
       "      <td>Positive</td>\n",
       "    </tr>\n",
       "    <tr>\n",
       "      <th>13</th>\n",
       "      <td>LuxeLace Oxfords</td>\n",
       "      <td>4/5</td>\n",
       "      <td>Color Options</td>\n",
       "      <td>Stylish and comfortable, but I wish they came ...</td>\n",
       "      <td>Neutral</td>\n",
       "    </tr>\n",
       "    <tr>\n",
       "      <th>14</th>\n",
       "      <td>LuxeLace Oxfords</td>\n",
       "      <td>5/5</td>\n",
       "      <td>None</td>\n",
       "      <td>Finally found dress shoes that don’t kill my f...</td>\n",
       "      <td>Positive</td>\n",
       "    </tr>\n",
       "    <tr>\n",
       "      <th>15</th>\n",
       "      <td>LuxeLace Oxfords</td>\n",
       "      <td>4/5</td>\n",
       "      <td>Stiffness</td>\n",
       "      <td>They’re a bit stiff out of the box, but after ...</td>\n",
       "      <td>Neutral</td>\n",
       "    </tr>\n",
       "    <tr>\n",
       "      <th>16</th>\n",
       "      <td>EcoStep Slip-Ons</td>\n",
       "      <td>5/5</td>\n",
       "      <td>None</td>\n",
       "      <td>Love these slip-ons! They’re so easy to wear, ...</td>\n",
       "      <td>Positive</td>\n",
       "    </tr>\n",
       "    <tr>\n",
       "      <th>17</th>\n",
       "      <td>EcoStep Slip-Ons</td>\n",
       "      <td>4/5</td>\n",
       "      <td>Weather</td>\n",
       "      <td>Super comfy and stylish for casual outings. On...</td>\n",
       "      <td>Neutral</td>\n",
       "    </tr>\n",
       "    <tr>\n",
       "      <th>18</th>\n",
       "      <td>EcoStep Slip-Ons</td>\n",
       "      <td>5/5</td>\n",
       "      <td>None</td>\n",
       "      <td>These have quickly become my go-to everyday sh...</td>\n",
       "      <td>Positive</td>\n",
       "    </tr>\n",
       "    <tr>\n",
       "      <th>19</th>\n",
       "      <td>EcoStep Slip-Ons</td>\n",
       "      <td>4/5</td>\n",
       "      <td>Arch Support</td>\n",
       "      <td>The fit is great, and I appreciate the sustain...</td>\n",
       "      <td>Neutral</td>\n",
       "    </tr>\n",
       "    <tr>\n",
       "      <th>20</th>\n",
       "      <td>BounceMax Runners</td>\n",
       "      <td>5/5</td>\n",
       "      <td>None</td>\n",
       "      <td>These runners are a dream for long-distance ru...</td>\n",
       "      <td>Positive</td>\n",
       "    </tr>\n",
       "    <tr>\n",
       "      <th>21</th>\n",
       "      <td>BounceMax Runners</td>\n",
       "      <td>5/5</td>\n",
       "      <td>None</td>\n",
       "      <td>Absolutely love these! They provide just the r...</td>\n",
       "      <td>Positive</td>\n",
       "    </tr>\n",
       "    <tr>\n",
       "      <th>22</th>\n",
       "      <td>BounceMax Runners</td>\n",
       "      <td>4/5</td>\n",
       "      <td>Bulkiness</td>\n",
       "      <td>Great performance shoes. Only minor complaint ...</td>\n",
       "      <td>Neutral</td>\n",
       "    </tr>\n",
       "    <tr>\n",
       "      <th>23</th>\n",
       "      <td>BounceMax Runners</td>\n",
       "      <td>5/5</td>\n",
       "      <td>None</td>\n",
       "      <td>I’ve tried many running shoes, and these are b...</td>\n",
       "      <td>Positive</td>\n",
       "    </tr>\n",
       "  </tbody>\n",
       "</table>\n",
       "</div>"
      ],
      "text/plain": [
       "                     Shoe Overall Rating          Issue  \\\n",
       "0   CloudStrider Sneakers            2/5     Durability   \n",
       "1   CloudStrider Sneakers            1/5         Sizing   \n",
       "2   CloudStrider Sneakers            3/5           Odor   \n",
       "3   CloudStrider Sneakers            5/5           None   \n",
       "4         PeakTrek Hikers            1/5     Waterproof   \n",
       "5         PeakTrek Hikers            2/5           Grip   \n",
       "6         PeakTrek Hikers            4/5        Padding   \n",
       "7         PeakTrek Hikers            5/5           None   \n",
       "8        SwiftShine Heels            2/5     Durability   \n",
       "9        SwiftShine Heels            3/5     Scratching   \n",
       "10       SwiftShine Heels            1/5        Comfort   \n",
       "11       SwiftShine Heels            4/5           None   \n",
       "12       LuxeLace Oxfords            5/5           None   \n",
       "13       LuxeLace Oxfords            4/5  Color Options   \n",
       "14       LuxeLace Oxfords            5/5           None   \n",
       "15       LuxeLace Oxfords            4/5      Stiffness   \n",
       "16       EcoStep Slip-Ons            5/5           None   \n",
       "17       EcoStep Slip-Ons            4/5        Weather   \n",
       "18       EcoStep Slip-Ons            5/5           None   \n",
       "19       EcoStep Slip-Ons            4/5   Arch Support   \n",
       "20      BounceMax Runners            5/5           None   \n",
       "21      BounceMax Runners            5/5           None   \n",
       "22      BounceMax Runners            4/5      Bulkiness   \n",
       "23      BounceMax Runners            5/5           None   \n",
       "\n",
       "                                               Review Sentiment  \n",
       "0   The shoes were super comfortable initially, bu...  Negative  \n",
       "1   I ordered my usual size, but these sneakers we...  Negative  \n",
       "2   Great for short runs, but they hold onto odors...   Neutral  \n",
       "3   Extremely lightweight and breathable. Perfect ...  Positive  \n",
       "4   These boots claim to be waterproof, but my fee...  Negative  \n",
       "5   I slipped multiple times on rocky trails becau...  Negative  \n",
       "6   The boots are sturdy and provide decent ankle ...   Neutral  \n",
       "7   Used these for a weekend hike in the mountains...  Positive  \n",
       "8   I wore these to a wedding, and the heel broke ...  Negative  \n",
       "9   While they look stunning, the glossy finish sc...   Neutral  \n",
       "10  The worst! My feet were in so much pain after ...  Negative  \n",
       "11  Beautiful shoes, and I received so many compli...  Positive  \n",
       "12  These oxfords are absolutely perfect for offic...  Positive  \n",
       "13  Stylish and comfortable, but I wish they came ...   Neutral  \n",
       "14  Finally found dress shoes that don’t kill my f...  Positive  \n",
       "15  They’re a bit stiff out of the box, but after ...   Neutral  \n",
       "16  Love these slip-ons! They’re so easy to wear, ...  Positive  \n",
       "17  Super comfy and stylish for casual outings. On...   Neutral  \n",
       "18  These have quickly become my go-to everyday sh...  Positive  \n",
       "19  The fit is great, and I appreciate the sustain...   Neutral  \n",
       "20  These runners are a dream for long-distance ru...  Positive  \n",
       "21  Absolutely love these! They provide just the r...  Positive  \n",
       "22  Great performance shoes. Only minor complaint ...   Neutral  \n",
       "23  I’ve tried many running shoes, and these are b...  Positive  "
      ]
     },
     "execution_count": 9,
     "metadata": {},
     "output_type": "execute_result"
    }
   ],
   "source": [
    "import pandas as pd\n",
    "\n",
    "df = pd.read_json(\"fb.json\")\n",
    "df"
   ]
  },
  {
   "cell_type": "code",
   "execution_count": 29,
   "id": "beea158f",
   "metadata": {},
   "outputs": [
    {
     "data": {
      "application/vnd.plotly.v1+json": {
       "config": {
        "plotlyServerURL": "https://plot.ly"
       },
       "data": [
        {
         "alignmentgroup": "True",
         "bingroup": "x",
         "hovertemplate": "Shoe=CloudStrider Sneakers<br>Sentiment=%{x}<br>count=%{y}<extra></extra>",
         "legendgroup": "CloudStrider Sneakers",
         "marker": {
          "color": "#636efa",
          "pattern": {
           "shape": ""
          }
         },
         "name": "CloudStrider Sneakers",
         "offsetgroup": "CloudStrider Sneakers",
         "orientation": "v",
         "showlegend": true,
         "type": "histogram",
         "x": [
          "Negative",
          "Negative",
          "Neutral",
          "Positive"
         ],
         "xaxis": "x",
         "yaxis": "y"
        },
        {
         "alignmentgroup": "True",
         "bingroup": "x",
         "hovertemplate": "Shoe=PeakTrek Hikers<br>Sentiment=%{x}<br>count=%{y}<extra></extra>",
         "legendgroup": "PeakTrek Hikers",
         "marker": {
          "color": "#EF553B",
          "pattern": {
           "shape": ""
          }
         },
         "name": "PeakTrek Hikers",
         "offsetgroup": "PeakTrek Hikers",
         "orientation": "v",
         "showlegend": true,
         "type": "histogram",
         "x": [
          "Negative",
          "Negative",
          "Neutral",
          "Positive"
         ],
         "xaxis": "x",
         "yaxis": "y"
        },
        {
         "alignmentgroup": "True",
         "bingroup": "x",
         "hovertemplate": "Shoe=SwiftShine Heels<br>Sentiment=%{x}<br>count=%{y}<extra></extra>",
         "legendgroup": "SwiftShine Heels",
         "marker": {
          "color": "#00cc96",
          "pattern": {
           "shape": ""
          }
         },
         "name": "SwiftShine Heels",
         "offsetgroup": "SwiftShine Heels",
         "orientation": "v",
         "showlegend": true,
         "type": "histogram",
         "x": [
          "Negative",
          "Neutral",
          "Negative",
          "Positive"
         ],
         "xaxis": "x",
         "yaxis": "y"
        },
        {
         "alignmentgroup": "True",
         "bingroup": "x",
         "hovertemplate": "Shoe=LuxeLace Oxfords<br>Sentiment=%{x}<br>count=%{y}<extra></extra>",
         "legendgroup": "LuxeLace Oxfords",
         "marker": {
          "color": "#ab63fa",
          "pattern": {
           "shape": ""
          }
         },
         "name": "LuxeLace Oxfords",
         "offsetgroup": "LuxeLace Oxfords",
         "orientation": "v",
         "showlegend": true,
         "type": "histogram",
         "x": [
          "Positive",
          "Neutral",
          "Positive",
          "Neutral"
         ],
         "xaxis": "x",
         "yaxis": "y"
        },
        {
         "alignmentgroup": "True",
         "bingroup": "x",
         "hovertemplate": "Shoe=EcoStep Slip-Ons<br>Sentiment=%{x}<br>count=%{y}<extra></extra>",
         "legendgroup": "EcoStep Slip-Ons",
         "marker": {
          "color": "#FFA15A",
          "pattern": {
           "shape": ""
          }
         },
         "name": "EcoStep Slip-Ons",
         "offsetgroup": "EcoStep Slip-Ons",
         "orientation": "v",
         "showlegend": true,
         "type": "histogram",
         "x": [
          "Positive",
          "Neutral",
          "Positive",
          "Neutral"
         ],
         "xaxis": "x",
         "yaxis": "y"
        },
        {
         "alignmentgroup": "True",
         "bingroup": "x",
         "hovertemplate": "Shoe=BounceMax Runners<br>Sentiment=%{x}<br>count=%{y}<extra></extra>",
         "legendgroup": "BounceMax Runners",
         "marker": {
          "color": "#19d3f3",
          "pattern": {
           "shape": ""
          }
         },
         "name": "BounceMax Runners",
         "offsetgroup": "BounceMax Runners",
         "orientation": "v",
         "showlegend": true,
         "type": "histogram",
         "x": [
          "Positive",
          "Positive",
          "Neutral",
          "Positive"
         ],
         "xaxis": "x",
         "yaxis": "y"
        }
       ],
       "layout": {
        "barmode": "relative",
        "legend": {
         "title": {
          "text": "Shoe"
         },
         "tracegroupgap": 0
        },
        "margin": {
         "t": 60
        },
        "template": {
         "data": {
          "bar": [
           {
            "error_x": {
             "color": "#2a3f5f"
            },
            "error_y": {
             "color": "#2a3f5f"
            },
            "marker": {
             "line": {
              "color": "#E5ECF6",
              "width": 0.5
             },
             "pattern": {
              "fillmode": "overlay",
              "size": 10,
              "solidity": 0.2
             }
            },
            "type": "bar"
           }
          ],
          "barpolar": [
           {
            "marker": {
             "line": {
              "color": "#E5ECF6",
              "width": 0.5
             },
             "pattern": {
              "fillmode": "overlay",
              "size": 10,
              "solidity": 0.2
             }
            },
            "type": "barpolar"
           }
          ],
          "carpet": [
           {
            "aaxis": {
             "endlinecolor": "#2a3f5f",
             "gridcolor": "white",
             "linecolor": "white",
             "minorgridcolor": "white",
             "startlinecolor": "#2a3f5f"
            },
            "baxis": {
             "endlinecolor": "#2a3f5f",
             "gridcolor": "white",
             "linecolor": "white",
             "minorgridcolor": "white",
             "startlinecolor": "#2a3f5f"
            },
            "type": "carpet"
           }
          ],
          "choropleth": [
           {
            "colorbar": {
             "outlinewidth": 0,
             "ticks": ""
            },
            "type": "choropleth"
           }
          ],
          "contour": [
           {
            "colorbar": {
             "outlinewidth": 0,
             "ticks": ""
            },
            "colorscale": [
             [
              0,
              "#0d0887"
             ],
             [
              0.1111111111111111,
              "#46039f"
             ],
             [
              0.2222222222222222,
              "#7201a8"
             ],
             [
              0.3333333333333333,
              "#9c179e"
             ],
             [
              0.4444444444444444,
              "#bd3786"
             ],
             [
              0.5555555555555556,
              "#d8576b"
             ],
             [
              0.6666666666666666,
              "#ed7953"
             ],
             [
              0.7777777777777778,
              "#fb9f3a"
             ],
             [
              0.8888888888888888,
              "#fdca26"
             ],
             [
              1,
              "#f0f921"
             ]
            ],
            "type": "contour"
           }
          ],
          "contourcarpet": [
           {
            "colorbar": {
             "outlinewidth": 0,
             "ticks": ""
            },
            "type": "contourcarpet"
           }
          ],
          "heatmap": [
           {
            "colorbar": {
             "outlinewidth": 0,
             "ticks": ""
            },
            "colorscale": [
             [
              0,
              "#0d0887"
             ],
             [
              0.1111111111111111,
              "#46039f"
             ],
             [
              0.2222222222222222,
              "#7201a8"
             ],
             [
              0.3333333333333333,
              "#9c179e"
             ],
             [
              0.4444444444444444,
              "#bd3786"
             ],
             [
              0.5555555555555556,
              "#d8576b"
             ],
             [
              0.6666666666666666,
              "#ed7953"
             ],
             [
              0.7777777777777778,
              "#fb9f3a"
             ],
             [
              0.8888888888888888,
              "#fdca26"
             ],
             [
              1,
              "#f0f921"
             ]
            ],
            "type": "heatmap"
           }
          ],
          "heatmapgl": [
           {
            "colorbar": {
             "outlinewidth": 0,
             "ticks": ""
            },
            "colorscale": [
             [
              0,
              "#0d0887"
             ],
             [
              0.1111111111111111,
              "#46039f"
             ],
             [
              0.2222222222222222,
              "#7201a8"
             ],
             [
              0.3333333333333333,
              "#9c179e"
             ],
             [
              0.4444444444444444,
              "#bd3786"
             ],
             [
              0.5555555555555556,
              "#d8576b"
             ],
             [
              0.6666666666666666,
              "#ed7953"
             ],
             [
              0.7777777777777778,
              "#fb9f3a"
             ],
             [
              0.8888888888888888,
              "#fdca26"
             ],
             [
              1,
              "#f0f921"
             ]
            ],
            "type": "heatmapgl"
           }
          ],
          "histogram": [
           {
            "marker": {
             "pattern": {
              "fillmode": "overlay",
              "size": 10,
              "solidity": 0.2
             }
            },
            "type": "histogram"
           }
          ],
          "histogram2d": [
           {
            "colorbar": {
             "outlinewidth": 0,
             "ticks": ""
            },
            "colorscale": [
             [
              0,
              "#0d0887"
             ],
             [
              0.1111111111111111,
              "#46039f"
             ],
             [
              0.2222222222222222,
              "#7201a8"
             ],
             [
              0.3333333333333333,
              "#9c179e"
             ],
             [
              0.4444444444444444,
              "#bd3786"
             ],
             [
              0.5555555555555556,
              "#d8576b"
             ],
             [
              0.6666666666666666,
              "#ed7953"
             ],
             [
              0.7777777777777778,
              "#fb9f3a"
             ],
             [
              0.8888888888888888,
              "#fdca26"
             ],
             [
              1,
              "#f0f921"
             ]
            ],
            "type": "histogram2d"
           }
          ],
          "histogram2dcontour": [
           {
            "colorbar": {
             "outlinewidth": 0,
             "ticks": ""
            },
            "colorscale": [
             [
              0,
              "#0d0887"
             ],
             [
              0.1111111111111111,
              "#46039f"
             ],
             [
              0.2222222222222222,
              "#7201a8"
             ],
             [
              0.3333333333333333,
              "#9c179e"
             ],
             [
              0.4444444444444444,
              "#bd3786"
             ],
             [
              0.5555555555555556,
              "#d8576b"
             ],
             [
              0.6666666666666666,
              "#ed7953"
             ],
             [
              0.7777777777777778,
              "#fb9f3a"
             ],
             [
              0.8888888888888888,
              "#fdca26"
             ],
             [
              1,
              "#f0f921"
             ]
            ],
            "type": "histogram2dcontour"
           }
          ],
          "mesh3d": [
           {
            "colorbar": {
             "outlinewidth": 0,
             "ticks": ""
            },
            "type": "mesh3d"
           }
          ],
          "parcoords": [
           {
            "line": {
             "colorbar": {
              "outlinewidth": 0,
              "ticks": ""
             }
            },
            "type": "parcoords"
           }
          ],
          "pie": [
           {
            "automargin": true,
            "type": "pie"
           }
          ],
          "scatter": [
           {
            "fillpattern": {
             "fillmode": "overlay",
             "size": 10,
             "solidity": 0.2
            },
            "type": "scatter"
           }
          ],
          "scatter3d": [
           {
            "line": {
             "colorbar": {
              "outlinewidth": 0,
              "ticks": ""
             }
            },
            "marker": {
             "colorbar": {
              "outlinewidth": 0,
              "ticks": ""
             }
            },
            "type": "scatter3d"
           }
          ],
          "scattercarpet": [
           {
            "marker": {
             "colorbar": {
              "outlinewidth": 0,
              "ticks": ""
             }
            },
            "type": "scattercarpet"
           }
          ],
          "scattergeo": [
           {
            "marker": {
             "colorbar": {
              "outlinewidth": 0,
              "ticks": ""
             }
            },
            "type": "scattergeo"
           }
          ],
          "scattergl": [
           {
            "marker": {
             "colorbar": {
              "outlinewidth": 0,
              "ticks": ""
             }
            },
            "type": "scattergl"
           }
          ],
          "scattermapbox": [
           {
            "marker": {
             "colorbar": {
              "outlinewidth": 0,
              "ticks": ""
             }
            },
            "type": "scattermapbox"
           }
          ],
          "scatterpolar": [
           {
            "marker": {
             "colorbar": {
              "outlinewidth": 0,
              "ticks": ""
             }
            },
            "type": "scatterpolar"
           }
          ],
          "scatterpolargl": [
           {
            "marker": {
             "colorbar": {
              "outlinewidth": 0,
              "ticks": ""
             }
            },
            "type": "scatterpolargl"
           }
          ],
          "scatterternary": [
           {
            "marker": {
             "colorbar": {
              "outlinewidth": 0,
              "ticks": ""
             }
            },
            "type": "scatterternary"
           }
          ],
          "surface": [
           {
            "colorbar": {
             "outlinewidth": 0,
             "ticks": ""
            },
            "colorscale": [
             [
              0,
              "#0d0887"
             ],
             [
              0.1111111111111111,
              "#46039f"
             ],
             [
              0.2222222222222222,
              "#7201a8"
             ],
             [
              0.3333333333333333,
              "#9c179e"
             ],
             [
              0.4444444444444444,
              "#bd3786"
             ],
             [
              0.5555555555555556,
              "#d8576b"
             ],
             [
              0.6666666666666666,
              "#ed7953"
             ],
             [
              0.7777777777777778,
              "#fb9f3a"
             ],
             [
              0.8888888888888888,
              "#fdca26"
             ],
             [
              1,
              "#f0f921"
             ]
            ],
            "type": "surface"
           }
          ],
          "table": [
           {
            "cells": {
             "fill": {
              "color": "#EBF0F8"
             },
             "line": {
              "color": "white"
             }
            },
            "header": {
             "fill": {
              "color": "#C8D4E3"
             },
             "line": {
              "color": "white"
             }
            },
            "type": "table"
           }
          ]
         },
         "layout": {
          "annotationdefaults": {
           "arrowcolor": "#2a3f5f",
           "arrowhead": 0,
           "arrowwidth": 1
          },
          "autotypenumbers": "strict",
          "coloraxis": {
           "colorbar": {
            "outlinewidth": 0,
            "ticks": ""
           }
          },
          "colorscale": {
           "diverging": [
            [
             0,
             "#8e0152"
            ],
            [
             0.1,
             "#c51b7d"
            ],
            [
             0.2,
             "#de77ae"
            ],
            [
             0.3,
             "#f1b6da"
            ],
            [
             0.4,
             "#fde0ef"
            ],
            [
             0.5,
             "#f7f7f7"
            ],
            [
             0.6,
             "#e6f5d0"
            ],
            [
             0.7,
             "#b8e186"
            ],
            [
             0.8,
             "#7fbc41"
            ],
            [
             0.9,
             "#4d9221"
            ],
            [
             1,
             "#276419"
            ]
           ],
           "sequential": [
            [
             0,
             "#0d0887"
            ],
            [
             0.1111111111111111,
             "#46039f"
            ],
            [
             0.2222222222222222,
             "#7201a8"
            ],
            [
             0.3333333333333333,
             "#9c179e"
            ],
            [
             0.4444444444444444,
             "#bd3786"
            ],
            [
             0.5555555555555556,
             "#d8576b"
            ],
            [
             0.6666666666666666,
             "#ed7953"
            ],
            [
             0.7777777777777778,
             "#fb9f3a"
            ],
            [
             0.8888888888888888,
             "#fdca26"
            ],
            [
             1,
             "#f0f921"
            ]
           ],
           "sequentialminus": [
            [
             0,
             "#0d0887"
            ],
            [
             0.1111111111111111,
             "#46039f"
            ],
            [
             0.2222222222222222,
             "#7201a8"
            ],
            [
             0.3333333333333333,
             "#9c179e"
            ],
            [
             0.4444444444444444,
             "#bd3786"
            ],
            [
             0.5555555555555556,
             "#d8576b"
            ],
            [
             0.6666666666666666,
             "#ed7953"
            ],
            [
             0.7777777777777778,
             "#fb9f3a"
            ],
            [
             0.8888888888888888,
             "#fdca26"
            ],
            [
             1,
             "#f0f921"
            ]
           ]
          },
          "colorway": [
           "#636efa",
           "#EF553B",
           "#00cc96",
           "#ab63fa",
           "#FFA15A",
           "#19d3f3",
           "#FF6692",
           "#B6E880",
           "#FF97FF",
           "#FECB52"
          ],
          "font": {
           "color": "#2a3f5f"
          },
          "geo": {
           "bgcolor": "white",
           "lakecolor": "white",
           "landcolor": "#E5ECF6",
           "showlakes": true,
           "showland": true,
           "subunitcolor": "white"
          },
          "hoverlabel": {
           "align": "left"
          },
          "hovermode": "closest",
          "mapbox": {
           "style": "light"
          },
          "paper_bgcolor": "white",
          "plot_bgcolor": "#E5ECF6",
          "polar": {
           "angularaxis": {
            "gridcolor": "white",
            "linecolor": "white",
            "ticks": ""
           },
           "bgcolor": "#E5ECF6",
           "radialaxis": {
            "gridcolor": "white",
            "linecolor": "white",
            "ticks": ""
           }
          },
          "scene": {
           "xaxis": {
            "backgroundcolor": "#E5ECF6",
            "gridcolor": "white",
            "gridwidth": 2,
            "linecolor": "white",
            "showbackground": true,
            "ticks": "",
            "zerolinecolor": "white"
           },
           "yaxis": {
            "backgroundcolor": "#E5ECF6",
            "gridcolor": "white",
            "gridwidth": 2,
            "linecolor": "white",
            "showbackground": true,
            "ticks": "",
            "zerolinecolor": "white"
           },
           "zaxis": {
            "backgroundcolor": "#E5ECF6",
            "gridcolor": "white",
            "gridwidth": 2,
            "linecolor": "white",
            "showbackground": true,
            "ticks": "",
            "zerolinecolor": "white"
           }
          },
          "shapedefaults": {
           "line": {
            "color": "#2a3f5f"
           }
          },
          "ternary": {
           "aaxis": {
            "gridcolor": "white",
            "linecolor": "white",
            "ticks": ""
           },
           "baxis": {
            "gridcolor": "white",
            "linecolor": "white",
            "ticks": ""
           },
           "bgcolor": "#E5ECF6",
           "caxis": {
            "gridcolor": "white",
            "linecolor": "white",
            "ticks": ""
           }
          },
          "title": {
           "x": 0.05
          },
          "xaxis": {
           "automargin": true,
           "gridcolor": "white",
           "linecolor": "white",
           "ticks": "",
           "title": {
            "standoff": 15
           },
           "zerolinecolor": "white",
           "zerolinewidth": 2
          },
          "yaxis": {
           "automargin": true,
           "gridcolor": "white",
           "linecolor": "white",
           "ticks": "",
           "title": {
            "standoff": 15
           },
           "zerolinecolor": "white",
           "zerolinewidth": 2
          }
         }
        },
        "xaxis": {
         "anchor": "y",
         "domain": [
          0,
          1
         ],
         "title": {
          "text": "Sentiment"
         }
        },
        "yaxis": {
         "anchor": "x",
         "domain": [
          0,
          1
         ],
         "title": {
          "text": "count"
         }
        }
       }
      }
     },
     "metadata": {},
     "output_type": "display_data"
    }
   ],
   "source": [
    "import plotly.express as px\n",
    "\n",
    "px.histogram(df,x=\"Sentiment\", color='Shoe')"
   ]
  },
  {
   "cell_type": "code",
   "execution_count": null,
   "id": "98727b44",
   "metadata": {},
   "outputs": [
    {
     "data": {
      "application/vnd.plotly.v1+json": {
       "config": {
        "plotlyServerURL": "https://plot.ly"
       },
       "data": [
        {
         "alignmentgroup": "True",
         "bingroup": "x",
         "hovertemplate": "Shoe=CloudStrider Sneakers<br>Overall Rating=%{x}<br>count=%{y}<extra></extra>",
         "legendgroup": "CloudStrider Sneakers",
         "marker": {
          "color": "#636efa",
          "pattern": {
           "shape": ""
          }
         },
         "name": "CloudStrider Sneakers",
         "offsetgroup": "CloudStrider Sneakers",
         "orientation": "v",
         "showlegend": true,
         "type": "histogram",
         "x": [
          "2/5",
          "1/5",
          "3/5",
          "5/5"
         ],
         "xaxis": "x",
         "yaxis": "y"
        },
        {
         "alignmentgroup": "True",
         "bingroup": "x",
         "hovertemplate": "Shoe=PeakTrek Hikers<br>Overall Rating=%{x}<br>count=%{y}<extra></extra>",
         "legendgroup": "PeakTrek Hikers",
         "marker": {
          "color": "#EF553B",
          "pattern": {
           "shape": ""
          }
         },
         "name": "PeakTrek Hikers",
         "offsetgroup": "PeakTrek Hikers",
         "orientation": "v",
         "showlegend": true,
         "type": "histogram",
         "x": [
          "1/5",
          "2/5",
          "4/5",
          "5/5"
         ],
         "xaxis": "x",
         "yaxis": "y"
        },
        {
         "alignmentgroup": "True",
         "bingroup": "x",
         "hovertemplate": "Shoe=SwiftShine Heels<br>Overall Rating=%{x}<br>count=%{y}<extra></extra>",
         "legendgroup": "SwiftShine Heels",
         "marker": {
          "color": "#00cc96",
          "pattern": {
           "shape": ""
          }
         },
         "name": "SwiftShine Heels",
         "offsetgroup": "SwiftShine Heels",
         "orientation": "v",
         "showlegend": true,
         "type": "histogram",
         "x": [
          "2/5",
          "3/5",
          "1/5",
          "4/5"
         ],
         "xaxis": "x",
         "yaxis": "y"
        },
        {
         "alignmentgroup": "True",
         "bingroup": "x",
         "hovertemplate": "Shoe=LuxeLace Oxfords<br>Overall Rating=%{x}<br>count=%{y}<extra></extra>",
         "legendgroup": "LuxeLace Oxfords",
         "marker": {
          "color": "#ab63fa",
          "pattern": {
           "shape": ""
          }
         },
         "name": "LuxeLace Oxfords",
         "offsetgroup": "LuxeLace Oxfords",
         "orientation": "v",
         "showlegend": true,
         "type": "histogram",
         "x": [
          "5/5",
          "4/5",
          "5/5",
          "4/5"
         ],
         "xaxis": "x",
         "yaxis": "y"
        },
        {
         "alignmentgroup": "True",
         "bingroup": "x",
         "hovertemplate": "Shoe=EcoStep Slip-Ons<br>Overall Rating=%{x}<br>count=%{y}<extra></extra>",
         "legendgroup": "EcoStep Slip-Ons",
         "marker": {
          "color": "#FFA15A",
          "pattern": {
           "shape": ""
          }
         },
         "name": "EcoStep Slip-Ons",
         "offsetgroup": "EcoStep Slip-Ons",
         "orientation": "v",
         "showlegend": true,
         "type": "histogram",
         "x": [
          "5/5",
          "4/5",
          "5/5",
          "4/5"
         ],
         "xaxis": "x",
         "yaxis": "y"
        },
        {
         "alignmentgroup": "True",
         "bingroup": "x",
         "hovertemplate": "Shoe=BounceMax Runners<br>Overall Rating=%{x}<br>count=%{y}<extra></extra>",
         "legendgroup": "BounceMax Runners",
         "marker": {
          "color": "#19d3f3",
          "pattern": {
           "shape": ""
          }
         },
         "name": "BounceMax Runners",
         "offsetgroup": "BounceMax Runners",
         "orientation": "v",
         "showlegend": true,
         "type": "histogram",
         "x": [
          "5/5",
          "5/5",
          "4/5",
          "5/5"
         ],
         "xaxis": "x",
         "yaxis": "y"
        }
       ],
       "layout": {
        "barmode": "relative",
        "legend": {
         "title": {
          "text": "Shoe"
         },
         "tracegroupgap": 0
        },
        "margin": {
         "t": 60
        },
        "template": {
         "data": {
          "bar": [
           {
            "error_x": {
             "color": "#2a3f5f"
            },
            "error_y": {
             "color": "#2a3f5f"
            },
            "marker": {
             "line": {
              "color": "#E5ECF6",
              "width": 0.5
             },
             "pattern": {
              "fillmode": "overlay",
              "size": 10,
              "solidity": 0.2
             }
            },
            "type": "bar"
           }
          ],
          "barpolar": [
           {
            "marker": {
             "line": {
              "color": "#E5ECF6",
              "width": 0.5
             },
             "pattern": {
              "fillmode": "overlay",
              "size": 10,
              "solidity": 0.2
             }
            },
            "type": "barpolar"
           }
          ],
          "carpet": [
           {
            "aaxis": {
             "endlinecolor": "#2a3f5f",
             "gridcolor": "white",
             "linecolor": "white",
             "minorgridcolor": "white",
             "startlinecolor": "#2a3f5f"
            },
            "baxis": {
             "endlinecolor": "#2a3f5f",
             "gridcolor": "white",
             "linecolor": "white",
             "minorgridcolor": "white",
             "startlinecolor": "#2a3f5f"
            },
            "type": "carpet"
           }
          ],
          "choropleth": [
           {
            "colorbar": {
             "outlinewidth": 0,
             "ticks": ""
            },
            "type": "choropleth"
           }
          ],
          "contour": [
           {
            "colorbar": {
             "outlinewidth": 0,
             "ticks": ""
            },
            "colorscale": [
             [
              0,
              "#0d0887"
             ],
             [
              0.1111111111111111,
              "#46039f"
             ],
             [
              0.2222222222222222,
              "#7201a8"
             ],
             [
              0.3333333333333333,
              "#9c179e"
             ],
             [
              0.4444444444444444,
              "#bd3786"
             ],
             [
              0.5555555555555556,
              "#d8576b"
             ],
             [
              0.6666666666666666,
              "#ed7953"
             ],
             [
              0.7777777777777778,
              "#fb9f3a"
             ],
             [
              0.8888888888888888,
              "#fdca26"
             ],
             [
              1,
              "#f0f921"
             ]
            ],
            "type": "contour"
           }
          ],
          "contourcarpet": [
           {
            "colorbar": {
             "outlinewidth": 0,
             "ticks": ""
            },
            "type": "contourcarpet"
           }
          ],
          "heatmap": [
           {
            "colorbar": {
             "outlinewidth": 0,
             "ticks": ""
            },
            "colorscale": [
             [
              0,
              "#0d0887"
             ],
             [
              0.1111111111111111,
              "#46039f"
             ],
             [
              0.2222222222222222,
              "#7201a8"
             ],
             [
              0.3333333333333333,
              "#9c179e"
             ],
             [
              0.4444444444444444,
              "#bd3786"
             ],
             [
              0.5555555555555556,
              "#d8576b"
             ],
             [
              0.6666666666666666,
              "#ed7953"
             ],
             [
              0.7777777777777778,
              "#fb9f3a"
             ],
             [
              0.8888888888888888,
              "#fdca26"
             ],
             [
              1,
              "#f0f921"
             ]
            ],
            "type": "heatmap"
           }
          ],
          "heatmapgl": [
           {
            "colorbar": {
             "outlinewidth": 0,
             "ticks": ""
            },
            "colorscale": [
             [
              0,
              "#0d0887"
             ],
             [
              0.1111111111111111,
              "#46039f"
             ],
             [
              0.2222222222222222,
              "#7201a8"
             ],
             [
              0.3333333333333333,
              "#9c179e"
             ],
             [
              0.4444444444444444,
              "#bd3786"
             ],
             [
              0.5555555555555556,
              "#d8576b"
             ],
             [
              0.6666666666666666,
              "#ed7953"
             ],
             [
              0.7777777777777778,
              "#fb9f3a"
             ],
             [
              0.8888888888888888,
              "#fdca26"
             ],
             [
              1,
              "#f0f921"
             ]
            ],
            "type": "heatmapgl"
           }
          ],
          "histogram": [
           {
            "marker": {
             "pattern": {
              "fillmode": "overlay",
              "size": 10,
              "solidity": 0.2
             }
            },
            "type": "histogram"
           }
          ],
          "histogram2d": [
           {
            "colorbar": {
             "outlinewidth": 0,
             "ticks": ""
            },
            "colorscale": [
             [
              0,
              "#0d0887"
             ],
             [
              0.1111111111111111,
              "#46039f"
             ],
             [
              0.2222222222222222,
              "#7201a8"
             ],
             [
              0.3333333333333333,
              "#9c179e"
             ],
             [
              0.4444444444444444,
              "#bd3786"
             ],
             [
              0.5555555555555556,
              "#d8576b"
             ],
             [
              0.6666666666666666,
              "#ed7953"
             ],
             [
              0.7777777777777778,
              "#fb9f3a"
             ],
             [
              0.8888888888888888,
              "#fdca26"
             ],
             [
              1,
              "#f0f921"
             ]
            ],
            "type": "histogram2d"
           }
          ],
          "histogram2dcontour": [
           {
            "colorbar": {
             "outlinewidth": 0,
             "ticks": ""
            },
            "colorscale": [
             [
              0,
              "#0d0887"
             ],
             [
              0.1111111111111111,
              "#46039f"
             ],
             [
              0.2222222222222222,
              "#7201a8"
             ],
             [
              0.3333333333333333,
              "#9c179e"
             ],
             [
              0.4444444444444444,
              "#bd3786"
             ],
             [
              0.5555555555555556,
              "#d8576b"
             ],
             [
              0.6666666666666666,
              "#ed7953"
             ],
             [
              0.7777777777777778,
              "#fb9f3a"
             ],
             [
              0.8888888888888888,
              "#fdca26"
             ],
             [
              1,
              "#f0f921"
             ]
            ],
            "type": "histogram2dcontour"
           }
          ],
          "mesh3d": [
           {
            "colorbar": {
             "outlinewidth": 0,
             "ticks": ""
            },
            "type": "mesh3d"
           }
          ],
          "parcoords": [
           {
            "line": {
             "colorbar": {
              "outlinewidth": 0,
              "ticks": ""
             }
            },
            "type": "parcoords"
           }
          ],
          "pie": [
           {
            "automargin": true,
            "type": "pie"
           }
          ],
          "scatter": [
           {
            "fillpattern": {
             "fillmode": "overlay",
             "size": 10,
             "solidity": 0.2
            },
            "type": "scatter"
           }
          ],
          "scatter3d": [
           {
            "line": {
             "colorbar": {
              "outlinewidth": 0,
              "ticks": ""
             }
            },
            "marker": {
             "colorbar": {
              "outlinewidth": 0,
              "ticks": ""
             }
            },
            "type": "scatter3d"
           }
          ],
          "scattercarpet": [
           {
            "marker": {
             "colorbar": {
              "outlinewidth": 0,
              "ticks": ""
             }
            },
            "type": "scattercarpet"
           }
          ],
          "scattergeo": [
           {
            "marker": {
             "colorbar": {
              "outlinewidth": 0,
              "ticks": ""
             }
            },
            "type": "scattergeo"
           }
          ],
          "scattergl": [
           {
            "marker": {
             "colorbar": {
              "outlinewidth": 0,
              "ticks": ""
             }
            },
            "type": "scattergl"
           }
          ],
          "scattermapbox": [
           {
            "marker": {
             "colorbar": {
              "outlinewidth": 0,
              "ticks": ""
             }
            },
            "type": "scattermapbox"
           }
          ],
          "scatterpolar": [
           {
            "marker": {
             "colorbar": {
              "outlinewidth": 0,
              "ticks": ""
             }
            },
            "type": "scatterpolar"
           }
          ],
          "scatterpolargl": [
           {
            "marker": {
             "colorbar": {
              "outlinewidth": 0,
              "ticks": ""
             }
            },
            "type": "scatterpolargl"
           }
          ],
          "scatterternary": [
           {
            "marker": {
             "colorbar": {
              "outlinewidth": 0,
              "ticks": ""
             }
            },
            "type": "scatterternary"
           }
          ],
          "surface": [
           {
            "colorbar": {
             "outlinewidth": 0,
             "ticks": ""
            },
            "colorscale": [
             [
              0,
              "#0d0887"
             ],
             [
              0.1111111111111111,
              "#46039f"
             ],
             [
              0.2222222222222222,
              "#7201a8"
             ],
             [
              0.3333333333333333,
              "#9c179e"
             ],
             [
              0.4444444444444444,
              "#bd3786"
             ],
             [
              0.5555555555555556,
              "#d8576b"
             ],
             [
              0.6666666666666666,
              "#ed7953"
             ],
             [
              0.7777777777777778,
              "#fb9f3a"
             ],
             [
              0.8888888888888888,
              "#fdca26"
             ],
             [
              1,
              "#f0f921"
             ]
            ],
            "type": "surface"
           }
          ],
          "table": [
           {
            "cells": {
             "fill": {
              "color": "#EBF0F8"
             },
             "line": {
              "color": "white"
             }
            },
            "header": {
             "fill": {
              "color": "#C8D4E3"
             },
             "line": {
              "color": "white"
             }
            },
            "type": "table"
           }
          ]
         },
         "layout": {
          "annotationdefaults": {
           "arrowcolor": "#2a3f5f",
           "arrowhead": 0,
           "arrowwidth": 1
          },
          "autotypenumbers": "strict",
          "coloraxis": {
           "colorbar": {
            "outlinewidth": 0,
            "ticks": ""
           }
          },
          "colorscale": {
           "diverging": [
            [
             0,
             "#8e0152"
            ],
            [
             0.1,
             "#c51b7d"
            ],
            [
             0.2,
             "#de77ae"
            ],
            [
             0.3,
             "#f1b6da"
            ],
            [
             0.4,
             "#fde0ef"
            ],
            [
             0.5,
             "#f7f7f7"
            ],
            [
             0.6,
             "#e6f5d0"
            ],
            [
             0.7,
             "#b8e186"
            ],
            [
             0.8,
             "#7fbc41"
            ],
            [
             0.9,
             "#4d9221"
            ],
            [
             1,
             "#276419"
            ]
           ],
           "sequential": [
            [
             0,
             "#0d0887"
            ],
            [
             0.1111111111111111,
             "#46039f"
            ],
            [
             0.2222222222222222,
             "#7201a8"
            ],
            [
             0.3333333333333333,
             "#9c179e"
            ],
            [
             0.4444444444444444,
             "#bd3786"
            ],
            [
             0.5555555555555556,
             "#d8576b"
            ],
            [
             0.6666666666666666,
             "#ed7953"
            ],
            [
             0.7777777777777778,
             "#fb9f3a"
            ],
            [
             0.8888888888888888,
             "#fdca26"
            ],
            [
             1,
             "#f0f921"
            ]
           ],
           "sequentialminus": [
            [
             0,
             "#0d0887"
            ],
            [
             0.1111111111111111,
             "#46039f"
            ],
            [
             0.2222222222222222,
             "#7201a8"
            ],
            [
             0.3333333333333333,
             "#9c179e"
            ],
            [
             0.4444444444444444,
             "#bd3786"
            ],
            [
             0.5555555555555556,
             "#d8576b"
            ],
            [
             0.6666666666666666,
             "#ed7953"
            ],
            [
             0.7777777777777778,
             "#fb9f3a"
            ],
            [
             0.8888888888888888,
             "#fdca26"
            ],
            [
             1,
             "#f0f921"
            ]
           ]
          },
          "colorway": [
           "#636efa",
           "#EF553B",
           "#00cc96",
           "#ab63fa",
           "#FFA15A",
           "#19d3f3",
           "#FF6692",
           "#B6E880",
           "#FF97FF",
           "#FECB52"
          ],
          "font": {
           "color": "#2a3f5f"
          },
          "geo": {
           "bgcolor": "white",
           "lakecolor": "white",
           "landcolor": "#E5ECF6",
           "showlakes": true,
           "showland": true,
           "subunitcolor": "white"
          },
          "hoverlabel": {
           "align": "left"
          },
          "hovermode": "closest",
          "mapbox": {
           "style": "light"
          },
          "paper_bgcolor": "white",
          "plot_bgcolor": "#E5ECF6",
          "polar": {
           "angularaxis": {
            "gridcolor": "white",
            "linecolor": "white",
            "ticks": ""
           },
           "bgcolor": "#E5ECF6",
           "radialaxis": {
            "gridcolor": "white",
            "linecolor": "white",
            "ticks": ""
           }
          },
          "scene": {
           "xaxis": {
            "backgroundcolor": "#E5ECF6",
            "gridcolor": "white",
            "gridwidth": 2,
            "linecolor": "white",
            "showbackground": true,
            "ticks": "",
            "zerolinecolor": "white"
           },
           "yaxis": {
            "backgroundcolor": "#E5ECF6",
            "gridcolor": "white",
            "gridwidth": 2,
            "linecolor": "white",
            "showbackground": true,
            "ticks": "",
            "zerolinecolor": "white"
           },
           "zaxis": {
            "backgroundcolor": "#E5ECF6",
            "gridcolor": "white",
            "gridwidth": 2,
            "linecolor": "white",
            "showbackground": true,
            "ticks": "",
            "zerolinecolor": "white"
           }
          },
          "shapedefaults": {
           "line": {
            "color": "#2a3f5f"
           }
          },
          "ternary": {
           "aaxis": {
            "gridcolor": "white",
            "linecolor": "white",
            "ticks": ""
           },
           "baxis": {
            "gridcolor": "white",
            "linecolor": "white",
            "ticks": ""
           },
           "bgcolor": "#E5ECF6",
           "caxis": {
            "gridcolor": "white",
            "linecolor": "white",
            "ticks": ""
           }
          },
          "title": {
           "x": 0.05
          },
          "xaxis": {
           "automargin": true,
           "gridcolor": "white",
           "linecolor": "white",
           "ticks": "",
           "title": {
            "standoff": 15
           },
           "zerolinecolor": "white",
           "zerolinewidth": 2
          },
          "yaxis": {
           "automargin": true,
           "gridcolor": "white",
           "linecolor": "white",
           "ticks": "",
           "title": {
            "standoff": 15
           },
           "zerolinecolor": "white",
           "zerolinewidth": 2
          }
         }
        },
        "xaxis": {
         "anchor": "y",
         "categoryarray": [
          "1/5",
          "2/5",
          "3/5",
          "4/5",
          "5/5"
         ],
         "categoryorder": "array",
         "domain": [
          0,
          1
         ],
         "title": {
          "text": "Overall Rating"
         }
        },
        "yaxis": {
         "anchor": "x",
         "domain": [
          0,
          1
         ],
         "title": {
          "text": "count"
         }
        }
       }
      }
     },
     "metadata": {},
     "output_type": "display_data"
    }
   ],
   "source": [
    "fig = px.histogram(df,x=\"Overall Rating\", color='Shoe')\n",
    "fig.update_xaxes(categoryorder='array',\n",
    "                 categoryarray= ['1/5','2/5','3/5','4/5','5/5'])"
   ]
  },
  {
   "cell_type": "markdown",
   "id": "dfe37d6b",
   "metadata": {},
   "source": [
    "![](../images/Screenshot-fb-reporter-app.png)"
   ]
  },
  {
   "cell_type": "markdown",
   "id": "a9adc228",
   "metadata": {},
   "source": [
    "![](image.png)"
   ]
  }
 ],
 "metadata": {
  "kernelspec": {
   "display_name": "Python 3",
   "language": "python",
   "name": "python3"
  },
  "language_info": {
   "codemirror_mode": {
    "name": "ipython",
    "version": 3
   },
   "file_extension": ".py",
   "mimetype": "text/x-python",
   "name": "python",
   "nbconvert_exporter": "python",
   "pygments_lexer": "ipython3",
   "version": "3.12.7"
  }
 },
 "nbformat": 4,
 "nbformat_minor": 5
}
