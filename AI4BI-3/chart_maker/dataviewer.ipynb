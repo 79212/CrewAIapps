{
 "cells": [
  {
   "cell_type": "code",
   "execution_count": 1,
   "metadata": {},
   "outputs": [],
   "source": [
    "import pandas as pd"
   ]
  },
  {
   "cell_type": "code",
   "execution_count": 2,
   "metadata": {},
   "outputs": [
    {
     "data": {
      "text/html": [
       "<div>\n",
       "<style scoped>\n",
       "    .dataframe tbody tr th:only-of-type {\n",
       "        vertical-align: middle;\n",
       "    }\n",
       "\n",
       "    .dataframe tbody tr th {\n",
       "        vertical-align: top;\n",
       "    }\n",
       "\n",
       "    .dataframe thead th {\n",
       "        text-align: right;\n",
       "    }\n",
       "</style>\n",
       "<table border=\"1\" class=\"dataframe\">\n",
       "  <thead>\n",
       "    <tr style=\"text-align: right;\">\n",
       "      <th></th>\n",
       "      <th>Month</th>\n",
       "      <th>Total Units Sold</th>\n",
       "      <th>Total Revenue ($)</th>\n",
       "      <th>% Change (Month-over-Month)</th>\n",
       "    </tr>\n",
       "  </thead>\n",
       "  <tbody>\n",
       "    <tr>\n",
       "      <th>0</th>\n",
       "      <td>January</td>\n",
       "      <td>10000</td>\n",
       "      <td>3500000</td>\n",
       "      <td>-</td>\n",
       "    </tr>\n",
       "    <tr>\n",
       "      <th>1</th>\n",
       "      <td>February</td>\n",
       "      <td>10500</td>\n",
       "      <td>3675000</td>\n",
       "      <td>+5%</td>\n",
       "    </tr>\n",
       "    <tr>\n",
       "      <th>2</th>\n",
       "      <td>March</td>\n",
       "      <td>11000</td>\n",
       "      <td>3850000</td>\n",
       "      <td>+4.8%</td>\n",
       "    </tr>\n",
       "    <tr>\n",
       "      <th>3</th>\n",
       "      <td>April</td>\n",
       "      <td>10800</td>\n",
       "      <td>3780000</td>\n",
       "      <td>-1.8%</td>\n",
       "    </tr>\n",
       "    <tr>\n",
       "      <th>4</th>\n",
       "      <td>May</td>\n",
       "      <td>11500</td>\n",
       "      <td>4000000</td>\n",
       "      <td>+5.8%</td>\n",
       "    </tr>\n",
       "    <tr>\n",
       "      <th>5</th>\n",
       "      <td>June</td>\n",
       "      <td>11300</td>\n",
       "      <td>3950000</td>\n",
       "      <td>-1.3%</td>\n",
       "    </tr>\n",
       "    <tr>\n",
       "      <th>6</th>\n",
       "      <td>July</td>\n",
       "      <td>12000</td>\n",
       "      <td>4100000</td>\n",
       "      <td>+3.8%</td>\n",
       "    </tr>\n",
       "    <tr>\n",
       "      <th>7</th>\n",
       "      <td>August</td>\n",
       "      <td>11800</td>\n",
       "      <td>4000000</td>\n",
       "      <td>-2.4%</td>\n",
       "    </tr>\n",
       "  </tbody>\n",
       "</table>\n",
       "</div>"
      ],
      "text/plain": [
       "      Month  Total Units Sold  Total Revenue ($) % Change (Month-over-Month)\n",
       "0   January             10000            3500000                           -\n",
       "1  February             10500            3675000                         +5%\n",
       "2     March             11000            3850000                       +4.8%\n",
       "3     April             10800            3780000                       -1.8%\n",
       "4       May             11500            4000000                       +5.8%\n",
       "5      June             11300            3950000                       -1.3%\n",
       "6      July             12000            4100000                       +3.8%\n",
       "7    August             11800            4000000                       -2.4%"
      ]
     },
     "execution_count": 2,
     "metadata": {},
     "output_type": "execute_result"
    }
   ],
   "source": [
    "df1 = pd.read_csv(\"monthly_sales.csv\")\n",
    "df1"
   ]
  },
  {
   "cell_type": "code",
   "execution_count": 3,
   "metadata": {},
   "outputs": [
    {
     "data": {
      "text/plain": [
       "30855000"
      ]
     },
     "execution_count": 3,
     "metadata": {},
     "output_type": "execute_result"
    }
   ],
   "source": [
    "df1['Total Revenue ($)'].sum()"
   ]
  },
  {
   "cell_type": "code",
   "execution_count": 4,
   "metadata": {},
   "outputs": [
    {
     "data": {
      "text/html": [
       "<div>\n",
       "<style scoped>\n",
       "    .dataframe tbody tr th:only-of-type {\n",
       "        vertical-align: middle;\n",
       "    }\n",
       "\n",
       "    .dataframe tbody tr th {\n",
       "        vertical-align: top;\n",
       "    }\n",
       "\n",
       "    .dataframe thead th {\n",
       "        text-align: right;\n",
       "    }\n",
       "</style>\n",
       "<table border=\"1\" class=\"dataframe\">\n",
       "  <thead>\n",
       "    <tr style=\"text-align: right;\">\n",
       "      <th></th>\n",
       "      <th>Product Category</th>\n",
       "      <th>Product Name</th>\n",
       "      <th>Units Sold</th>\n",
       "      <th>Revenue ($)</th>\n",
       "      <th>% Change (Month-over-Month)</th>\n",
       "    </tr>\n",
       "  </thead>\n",
       "  <tbody>\n",
       "    <tr>\n",
       "      <th>0</th>\n",
       "      <td>Electronics</td>\n",
       "      <td>Smart TV</td>\n",
       "      <td>1500</td>\n",
       "      <td>450000</td>\n",
       "      <td>+10%</td>\n",
       "    </tr>\n",
       "    <tr>\n",
       "      <th>1</th>\n",
       "      <td>Electronics</td>\n",
       "      <td>Laptop</td>\n",
       "      <td>1200</td>\n",
       "      <td>850000</td>\n",
       "      <td>+5%</td>\n",
       "    </tr>\n",
       "    <tr>\n",
       "      <th>2</th>\n",
       "      <td>Electronics</td>\n",
       "      <td>Smartphone</td>\n",
       "      <td>2000</td>\n",
       "      <td>1200000</td>\n",
       "      <td>-2%</td>\n",
       "    </tr>\n",
       "    <tr>\n",
       "      <th>3</th>\n",
       "      <td>Home Appliances</td>\n",
       "      <td>Refrigerator</td>\n",
       "      <td>700</td>\n",
       "      <td>400000</td>\n",
       "      <td>+8%</td>\n",
       "    </tr>\n",
       "    <tr>\n",
       "      <th>4</th>\n",
       "      <td>Home Appliances</td>\n",
       "      <td>Washing Machine</td>\n",
       "      <td>500</td>\n",
       "      <td>200000</td>\n",
       "      <td>-3%</td>\n",
       "    </tr>\n",
       "    <tr>\n",
       "      <th>5</th>\n",
       "      <td>Home Appliances</td>\n",
       "      <td>Microwave</td>\n",
       "      <td>900</td>\n",
       "      <td>150000</td>\n",
       "      <td>+15%</td>\n",
       "    </tr>\n",
       "    <tr>\n",
       "      <th>6</th>\n",
       "      <td>Furniture</td>\n",
       "      <td>Sofa</td>\n",
       "      <td>300</td>\n",
       "      <td>90000</td>\n",
       "      <td>+20%</td>\n",
       "    </tr>\n",
       "    <tr>\n",
       "      <th>7</th>\n",
       "      <td>Furniture</td>\n",
       "      <td>Dining Table</td>\n",
       "      <td>150</td>\n",
       "      <td>80000</td>\n",
       "      <td>+12%</td>\n",
       "    </tr>\n",
       "    <tr>\n",
       "      <th>8</th>\n",
       "      <td>Furniture</td>\n",
       "      <td>Bed Frame</td>\n",
       "      <td>250</td>\n",
       "      <td>130000</td>\n",
       "      <td>+7%</td>\n",
       "    </tr>\n",
       "  </tbody>\n",
       "</table>\n",
       "</div>"
      ],
      "text/plain": [
       "  Product Category     Product Name  Units Sold  Revenue ($)  \\\n",
       "0      Electronics         Smart TV        1500       450000   \n",
       "1      Electronics           Laptop        1200       850000   \n",
       "2      Electronics       Smartphone        2000      1200000   \n",
       "3  Home Appliances     Refrigerator         700       400000   \n",
       "4  Home Appliances  Washing Machine         500       200000   \n",
       "5  Home Appliances        Microwave         900       150000   \n",
       "6        Furniture             Sofa         300        90000   \n",
       "7        Furniture     Dining Table         150        80000   \n",
       "8        Furniture        Bed Frame         250       130000   \n",
       "\n",
       "  % Change (Month-over-Month)  \n",
       "0                        +10%  \n",
       "1                         +5%  \n",
       "2                         -2%  \n",
       "3                         +8%  \n",
       "4                         -3%  \n",
       "5                        +15%  \n",
       "6                        +20%  \n",
       "7                        +12%  \n",
       "8                         +7%  "
      ]
     },
     "execution_count": 4,
     "metadata": {},
     "output_type": "execute_result"
    }
   ],
   "source": [
    "df2 = pd.read_csv(\"sales_product_cat.csv\")\n",
    "df2"
   ]
  },
  {
   "cell_type": "code",
   "execution_count": 5,
   "metadata": {},
   "outputs": [
    {
     "data": {
      "text/plain": [
       "3550000"
      ]
     },
     "execution_count": 5,
     "metadata": {},
     "output_type": "execute_result"
    }
   ],
   "source": [
    "df2['Revenue ($)'].sum()"
   ]
  },
  {
   "cell_type": "code",
   "execution_count": 6,
   "metadata": {},
   "outputs": [
    {
     "data": {
      "text/html": [
       "<div>\n",
       "<style scoped>\n",
       "    .dataframe tbody tr th:only-of-type {\n",
       "        vertical-align: middle;\n",
       "    }\n",
       "\n",
       "    .dataframe tbody tr th {\n",
       "        vertical-align: top;\n",
       "    }\n",
       "\n",
       "    .dataframe thead th {\n",
       "        text-align: right;\n",
       "    }\n",
       "</style>\n",
       "<table border=\"1\" class=\"dataframe\">\n",
       "  <thead>\n",
       "    <tr style=\"text-align: right;\">\n",
       "      <th></th>\n",
       "      <th>Region</th>\n",
       "      <th>Total Revenue ($)</th>\n",
       "      <th>Top-Selling Product</th>\n",
       "      <th>Units Sold</th>\n",
       "      <th>% Change (Month-over-Month)</th>\n",
       "    </tr>\n",
       "  </thead>\n",
       "  <tbody>\n",
       "    <tr>\n",
       "      <th>0</th>\n",
       "      <td>North America</td>\n",
       "      <td>1500000</td>\n",
       "      <td>Smartphone</td>\n",
       "      <td>800</td>\n",
       "      <td>+5%</td>\n",
       "    </tr>\n",
       "    <tr>\n",
       "      <th>1</th>\n",
       "      <td>Europe</td>\n",
       "      <td>1200000</td>\n",
       "      <td>Laptop</td>\n",
       "      <td>600</td>\n",
       "      <td>+8%</td>\n",
       "    </tr>\n",
       "    <tr>\n",
       "      <th>2</th>\n",
       "      <td>Asia-Pacific</td>\n",
       "      <td>800000</td>\n",
       "      <td>Smart TV</td>\n",
       "      <td>900</td>\n",
       "      <td>-2%</td>\n",
       "    </tr>\n",
       "    <tr>\n",
       "      <th>3</th>\n",
       "      <td>South America</td>\n",
       "      <td>350000</td>\n",
       "      <td>Refrigerator</td>\n",
       "      <td>300</td>\n",
       "      <td>+10%</td>\n",
       "    </tr>\n",
       "    <tr>\n",
       "      <th>4</th>\n",
       "      <td>Africa</td>\n",
       "      <td>250000</td>\n",
       "      <td>Sofa</td>\n",
       "      <td>150</td>\n",
       "      <td>+12%</td>\n",
       "    </tr>\n",
       "  </tbody>\n",
       "</table>\n",
       "</div>"
      ],
      "text/plain": [
       "          Region  Total Revenue ($) Top-Selling Product  Units Sold  \\\n",
       "0  North America            1500000          Smartphone         800   \n",
       "1         Europe            1200000              Laptop         600   \n",
       "2   Asia-Pacific             800000            Smart TV         900   \n",
       "3  South America             350000        Refrigerator         300   \n",
       "4         Africa             250000                Sofa         150   \n",
       "\n",
       "  % Change (Month-over-Month)  \n",
       "0                         +5%  \n",
       "1                         +8%  \n",
       "2                         -2%  \n",
       "3                        +10%  \n",
       "4                        +12%  "
      ]
     },
     "execution_count": 6,
     "metadata": {},
     "output_type": "execute_result"
    }
   ],
   "source": [
    "df3 = pd.read_csv(\"sales_by_region.csv\")\n",
    "df3"
   ]
  },
  {
   "cell_type": "code",
   "execution_count": 7,
   "metadata": {},
   "outputs": [
    {
     "data": {
      "text/plain": [
       "4100000"
      ]
     },
     "execution_count": 7,
     "metadata": {},
     "output_type": "execute_result"
    }
   ],
   "source": [
    "df3['Total Revenue ($)'].sum()"
   ]
  }
 ],
 "metadata": {
  "kernelspec": {
   "display_name": "Python 3",
   "language": "python",
   "name": "python3"
  },
  "language_info": {
   "codemirror_mode": {
    "name": "ipython",
    "version": 3
   },
   "file_extension": ".py",
   "mimetype": "text/x-python",
   "name": "python",
   "nbconvert_exporter": "python",
   "pygments_lexer": "ipython3",
   "version": "3.12.7"
  }
 },
 "nbformat": 4,
 "nbformat_minor": 2
}
